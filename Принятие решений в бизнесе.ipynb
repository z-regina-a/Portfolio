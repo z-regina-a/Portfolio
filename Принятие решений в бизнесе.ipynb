{
 "cells": [
  {
   "cell_type": "markdown",
   "metadata": {},
   "source": [
    "# Принятие решений в бизнесе"
   ]
  },
  {
   "cell_type": "markdown",
   "metadata": {},
   "source": [
    "### Постановка задачи\n",
    "Вместе с отделом маркетинга был подготовлен список гипотез для увеличения выручки интеренет-магазина.\n",
    "Требуется приоритезировать гипотезы, запустить A/B-тест и проанализировать результаты. "
   ]
  },
  {
   "cell_type": "markdown",
   "metadata": {},
   "source": [
    "### Описание данных\n",
    "#### Файл /datasets/hypothesis.csv.  \n",
    "Hypothesis — краткое описание гипотезы;  \n",
    "Reach — охват пользователей по 10-балльной шкале;  \n",
    "Impact — влияние на пользователей по 10-балльной шкале;  \n",
    "Confidence — уверенность в гипотезе по 10-балльной шкале;  \n",
    "Efforts — затраты ресурсов на проверку гипотезы по 10-балльной шкале. Чем больше значение Efforts, тем дороже проверка гипотезы. \n",
    "#### Файл /datasets/orders.csv.   \n",
    "transactionId — идентификатор заказа;  \n",
    "visitorId — идентификатор пользователя, совершившего заказ;  \n",
    "date — дата, когда был совершён заказ;  \n",
    "revenue — выручка заказа;  \n",
    "group — группа A/B-теста, в которую попал заказ.  \n",
    "#### Файл /datasets/visitors.csv.  \n",
    "date — дата;  \n",
    "group — группа A/B-теста;  \n",
    "visitors — количество пользователей в указанную дату в указанной группе A/B-теста  "
   ]
  },
  {
   "cell_type": "markdown",
   "metadata": {},
   "source": [
    "## Загрузка и предобработка данных"
   ]
  },
  {
   "cell_type": "markdown",
   "metadata": {},
   "source": [
    "Импортируем все необходимые библиотеки"
   ]
  },
  {
   "cell_type": "code",
   "execution_count": 1,
   "metadata": {},
   "outputs": [],
   "source": [
    "import pandas as pd\n",
    "import datetime as dt\n",
    "import numpy as np\n",
    "import matplotlib.pyplot as plt\n",
    "from pandas.plotting import register_matplotlib_converters\n",
    "import scipy.stats as stats\n",
    "# конвертеры, которые позволяют использовать типы pandas в matplotlib  \n",
    "register_matplotlib_converters() "
   ]
  },
  {
   "cell_type": "markdown",
   "metadata": {},
   "source": [
    "Загрузим данные и проведем предобработку."
   ]
  },
  {
   "cell_type": "code",
   "execution_count": 2,
   "metadata": {},
   "outputs": [],
   "source": [
    "# чтение файла с данными и сохранение в hypothesis\n",
    "try:\n",
    "    hypothesis = pd.read_csv('/datasets/hypothesis.csv')\n",
    "except:\n",
    "    hypothesis = pd.read_csv('https://code.s3.yandex.net/datasets/hypothesis.csv')"
   ]
  },
  {
   "cell_type": "code",
   "execution_count": 3,
   "metadata": {
    "scrolled": false
   },
   "outputs": [
    {
     "name": "stdout",
     "output_type": "stream",
     "text": [
      "<class 'pandas.core.frame.DataFrame'>\n",
      "RangeIndex: 9 entries, 0 to 8\n",
      "Data columns (total 5 columns):\n",
      " #   Column      Non-Null Count  Dtype \n",
      "---  ------      --------------  ----- \n",
      " 0   Hypothesis  9 non-null      object\n",
      " 1   Reach       9 non-null      int64 \n",
      " 2   Impact      9 non-null      int64 \n",
      " 3   Confidence  9 non-null      int64 \n",
      " 4   Efforts     9 non-null      int64 \n",
      "dtypes: int64(4), object(1)\n",
      "memory usage: 488.0+ bytes\n",
      "None\n",
      "Количество дубликатов: 0\n"
     ]
    },
    {
     "data": {
      "text/html": [
       "<div>\n",
       "<style scoped>\n",
       "    .dataframe tbody tr th:only-of-type {\n",
       "        vertical-align: middle;\n",
       "    }\n",
       "\n",
       "    .dataframe tbody tr th {\n",
       "        vertical-align: top;\n",
       "    }\n",
       "\n",
       "    .dataframe thead th {\n",
       "        text-align: right;\n",
       "    }\n",
       "</style>\n",
       "<table border=\"1\" class=\"dataframe\">\n",
       "  <thead>\n",
       "    <tr style=\"text-align: right;\">\n",
       "      <th></th>\n",
       "      <th>Hypothesis</th>\n",
       "      <th>Reach</th>\n",
       "      <th>Impact</th>\n",
       "      <th>Confidence</th>\n",
       "      <th>Efforts</th>\n",
       "    </tr>\n",
       "  </thead>\n",
       "  <tbody>\n",
       "    <tr>\n",
       "      <th>0</th>\n",
       "      <td>Добавить два новых канала привлечения трафика,...</td>\n",
       "      <td>3</td>\n",
       "      <td>10</td>\n",
       "      <td>8</td>\n",
       "      <td>6</td>\n",
       "    </tr>\n",
       "    <tr>\n",
       "      <th>1</th>\n",
       "      <td>Запустить собственную службу доставки, что сок...</td>\n",
       "      <td>2</td>\n",
       "      <td>5</td>\n",
       "      <td>4</td>\n",
       "      <td>10</td>\n",
       "    </tr>\n",
       "    <tr>\n",
       "      <th>2</th>\n",
       "      <td>Добавить блоки рекомендаций товаров на сайт ин...</td>\n",
       "      <td>8</td>\n",
       "      <td>3</td>\n",
       "      <td>7</td>\n",
       "      <td>3</td>\n",
       "    </tr>\n",
       "    <tr>\n",
       "      <th>3</th>\n",
       "      <td>Изменить структура категорий, что увеличит кон...</td>\n",
       "      <td>8</td>\n",
       "      <td>3</td>\n",
       "      <td>3</td>\n",
       "      <td>8</td>\n",
       "    </tr>\n",
       "    <tr>\n",
       "      <th>4</th>\n",
       "      <td>Изменить цвет фона главной страницы, чтобы уве...</td>\n",
       "      <td>3</td>\n",
       "      <td>1</td>\n",
       "      <td>1</td>\n",
       "      <td>1</td>\n",
       "    </tr>\n",
       "  </tbody>\n",
       "</table>\n",
       "</div>"
      ],
      "text/plain": [
       "                                          Hypothesis  Reach  Impact  \\\n",
       "0  Добавить два новых канала привлечения трафика,...      3      10   \n",
       "1  Запустить собственную службу доставки, что сок...      2       5   \n",
       "2  Добавить блоки рекомендаций товаров на сайт ин...      8       3   \n",
       "3  Изменить структура категорий, что увеличит кон...      8       3   \n",
       "4  Изменить цвет фона главной страницы, чтобы уве...      3       1   \n",
       "\n",
       "   Confidence  Efforts  \n",
       "0           8        6  \n",
       "1           4       10  \n",
       "2           7        3  \n",
       "3           3        8  \n",
       "4           1        1  "
      ]
     },
     "execution_count": 3,
     "metadata": {},
     "output_type": "execute_result"
    }
   ],
   "source": [
    "print(hypothesis.info())\n",
    "print(\"Количество дубликатов:\", hypothesis.duplicated().sum())\n",
    "hypothesis.head()"
   ]
  },
  {
   "cell_type": "code",
   "execution_count": 4,
   "metadata": {},
   "outputs": [],
   "source": [
    "# чтение файла с данными и сохранение в orders\n",
    "try:\n",
    "    orders = pd.read_csv('/datasets/orders.csv')\n",
    "except:\n",
    "    orders = pd.read_csv('https://code.s3.yandex.net/datasets/orders.csv')\n",
    "    # чтение файла с данными и сохранение в visitors\n",
    "try:\n",
    "    visitors = pd.read_csv('/datasets/visitors.csv')\n",
    "except:\n",
    "    visitors = pd.read_csv('https://code.s3.yandex.net/datasets/visitors.csv')"
   ]
  },
  {
   "cell_type": "code",
   "execution_count": 5,
   "metadata": {},
   "outputs": [
    {
     "name": "stdout",
     "output_type": "stream",
     "text": [
      "<class 'pandas.core.frame.DataFrame'>\n",
      "RangeIndex: 1197 entries, 0 to 1196\n",
      "Data columns (total 5 columns):\n",
      " #   Column         Non-Null Count  Dtype \n",
      "---  ------         --------------  ----- \n",
      " 0   transactionId  1197 non-null   int64 \n",
      " 1   visitorId      1197 non-null   int64 \n",
      " 2   date           1197 non-null   object\n",
      " 3   revenue        1197 non-null   int64 \n",
      " 4   group          1197 non-null   object\n",
      "dtypes: int64(3), object(2)\n",
      "memory usage: 46.9+ KB\n",
      "None\n",
      "Количество дубликатов: 0\n"
     ]
    },
    {
     "data": {
      "text/html": [
       "<div>\n",
       "<style scoped>\n",
       "    .dataframe tbody tr th:only-of-type {\n",
       "        vertical-align: middle;\n",
       "    }\n",
       "\n",
       "    .dataframe tbody tr th {\n",
       "        vertical-align: top;\n",
       "    }\n",
       "\n",
       "    .dataframe thead th {\n",
       "        text-align: right;\n",
       "    }\n",
       "</style>\n",
       "<table border=\"1\" class=\"dataframe\">\n",
       "  <thead>\n",
       "    <tr style=\"text-align: right;\">\n",
       "      <th></th>\n",
       "      <th>transactionId</th>\n",
       "      <th>visitorId</th>\n",
       "      <th>date</th>\n",
       "      <th>revenue</th>\n",
       "      <th>group</th>\n",
       "    </tr>\n",
       "  </thead>\n",
       "  <tbody>\n",
       "    <tr>\n",
       "      <th>0</th>\n",
       "      <td>3667963787</td>\n",
       "      <td>3312258926</td>\n",
       "      <td>2019-08-15</td>\n",
       "      <td>1650</td>\n",
       "      <td>B</td>\n",
       "    </tr>\n",
       "    <tr>\n",
       "      <th>1</th>\n",
       "      <td>2804400009</td>\n",
       "      <td>3642806036</td>\n",
       "      <td>2019-08-15</td>\n",
       "      <td>730</td>\n",
       "      <td>B</td>\n",
       "    </tr>\n",
       "    <tr>\n",
       "      <th>2</th>\n",
       "      <td>2961555356</td>\n",
       "      <td>4069496402</td>\n",
       "      <td>2019-08-15</td>\n",
       "      <td>400</td>\n",
       "      <td>A</td>\n",
       "    </tr>\n",
       "    <tr>\n",
       "      <th>3</th>\n",
       "      <td>3797467345</td>\n",
       "      <td>1196621759</td>\n",
       "      <td>2019-08-15</td>\n",
       "      <td>9759</td>\n",
       "      <td>B</td>\n",
       "    </tr>\n",
       "    <tr>\n",
       "      <th>4</th>\n",
       "      <td>2282983706</td>\n",
       "      <td>2322279887</td>\n",
       "      <td>2019-08-15</td>\n",
       "      <td>2308</td>\n",
       "      <td>B</td>\n",
       "    </tr>\n",
       "  </tbody>\n",
       "</table>\n",
       "</div>"
      ],
      "text/plain": [
       "   transactionId   visitorId        date  revenue group\n",
       "0     3667963787  3312258926  2019-08-15     1650     B\n",
       "1     2804400009  3642806036  2019-08-15      730     B\n",
       "2     2961555356  4069496402  2019-08-15      400     A\n",
       "3     3797467345  1196621759  2019-08-15     9759     B\n",
       "4     2282983706  2322279887  2019-08-15     2308     B"
      ]
     },
     "execution_count": 5,
     "metadata": {},
     "output_type": "execute_result"
    }
   ],
   "source": [
    "print(orders.info())\n",
    "print(\"Количество дубликатов:\", orders.duplicated().sum())\n",
    "orders.head()"
   ]
  },
  {
   "cell_type": "code",
   "execution_count": 6,
   "metadata": {},
   "outputs": [
    {
     "name": "stdout",
     "output_type": "stream",
     "text": [
      "<class 'pandas.core.frame.DataFrame'>\n",
      "RangeIndex: 62 entries, 0 to 61\n",
      "Data columns (total 3 columns):\n",
      " #   Column    Non-Null Count  Dtype \n",
      "---  ------    --------------  ----- \n",
      " 0   date      62 non-null     object\n",
      " 1   group     62 non-null     object\n",
      " 2   visitors  62 non-null     int64 \n",
      "dtypes: int64(1), object(2)\n",
      "memory usage: 1.6+ KB\n",
      "None\n",
      "Количество дубликатов: 0\n"
     ]
    },
    {
     "data": {
      "text/html": [
       "<div>\n",
       "<style scoped>\n",
       "    .dataframe tbody tr th:only-of-type {\n",
       "        vertical-align: middle;\n",
       "    }\n",
       "\n",
       "    .dataframe tbody tr th {\n",
       "        vertical-align: top;\n",
       "    }\n",
       "\n",
       "    .dataframe thead th {\n",
       "        text-align: right;\n",
       "    }\n",
       "</style>\n",
       "<table border=\"1\" class=\"dataframe\">\n",
       "  <thead>\n",
       "    <tr style=\"text-align: right;\">\n",
       "      <th></th>\n",
       "      <th>date</th>\n",
       "      <th>group</th>\n",
       "      <th>visitors</th>\n",
       "    </tr>\n",
       "  </thead>\n",
       "  <tbody>\n",
       "    <tr>\n",
       "      <th>0</th>\n",
       "      <td>2019-08-01</td>\n",
       "      <td>A</td>\n",
       "      <td>719</td>\n",
       "    </tr>\n",
       "    <tr>\n",
       "      <th>1</th>\n",
       "      <td>2019-08-02</td>\n",
       "      <td>A</td>\n",
       "      <td>619</td>\n",
       "    </tr>\n",
       "    <tr>\n",
       "      <th>2</th>\n",
       "      <td>2019-08-03</td>\n",
       "      <td>A</td>\n",
       "      <td>507</td>\n",
       "    </tr>\n",
       "    <tr>\n",
       "      <th>3</th>\n",
       "      <td>2019-08-04</td>\n",
       "      <td>A</td>\n",
       "      <td>717</td>\n",
       "    </tr>\n",
       "    <tr>\n",
       "      <th>4</th>\n",
       "      <td>2019-08-05</td>\n",
       "      <td>A</td>\n",
       "      <td>756</td>\n",
       "    </tr>\n",
       "  </tbody>\n",
       "</table>\n",
       "</div>"
      ],
      "text/plain": [
       "         date group  visitors\n",
       "0  2019-08-01     A       719\n",
       "1  2019-08-02     A       619\n",
       "2  2019-08-03     A       507\n",
       "3  2019-08-04     A       717\n",
       "4  2019-08-05     A       756"
      ]
     },
     "execution_count": 6,
     "metadata": {},
     "output_type": "execute_result"
    }
   ],
   "source": [
    "print(visitors.info())\n",
    "print(\"Количество дубликатов:\", visitors.duplicated().sum())\n",
    "visitors.head()"
   ]
  },
  {
   "cell_type": "code",
   "execution_count": 7,
   "metadata": {},
   "outputs": [],
   "source": [
    "#приведем названия столбцов к соответсующему стилю:\n",
    "hypothesis.columns = hypothesis.columns.str.lower() "
   ]
  },
  {
   "cell_type": "code",
   "execution_count": 8,
   "metadata": {},
   "outputs": [],
   "source": [
    "#приведём столбцы с датой к типу datetime\n",
    "orders['date'] = pd.to_datetime(orders['date'], format = '%Y-%m-%d') #перевод в дату\n",
    "visitors['date'] = pd.to_datetime(visitors['date'], format = '%Y-%m-%d') #перевод в дату"
   ]
  },
  {
   "cell_type": "code",
   "execution_count": 9,
   "metadata": {},
   "outputs": [],
   "source": [
    "#приведём к нижнему регистру и добавим нужнее подчёркивание для удобства чтения\n",
    "orders.columns = orders.columns.str.replace('Id', '_id') "
   ]
  },
  {
   "cell_type": "code",
   "execution_count": 10,
   "metadata": {
    "scrolled": false
   },
   "outputs": [
    {
     "name": "stdout",
     "output_type": "stream",
     "text": [
      "<class 'pandas.core.frame.DataFrame'>\n",
      "RangeIndex: 1197 entries, 0 to 1196\n",
      "Data columns (total 5 columns):\n",
      " #   Column          Non-Null Count  Dtype         \n",
      "---  ------          --------------  -----         \n",
      " 0   transaction_id  1197 non-null   int64         \n",
      " 1   visitor_id      1197 non-null   int64         \n",
      " 2   date            1197 non-null   datetime64[ns]\n",
      " 3   revenue         1197 non-null   int64         \n",
      " 4   group           1197 non-null   object        \n",
      "dtypes: datetime64[ns](1), int64(3), object(1)\n",
      "memory usage: 46.9+ KB\n",
      "None\n",
      "Количество дубликатов: 0\n"
     ]
    },
    {
     "data": {
      "text/html": [
       "<div>\n",
       "<style scoped>\n",
       "    .dataframe tbody tr th:only-of-type {\n",
       "        vertical-align: middle;\n",
       "    }\n",
       "\n",
       "    .dataframe tbody tr th {\n",
       "        vertical-align: top;\n",
       "    }\n",
       "\n",
       "    .dataframe thead th {\n",
       "        text-align: right;\n",
       "    }\n",
       "</style>\n",
       "<table border=\"1\" class=\"dataframe\">\n",
       "  <thead>\n",
       "    <tr style=\"text-align: right;\">\n",
       "      <th></th>\n",
       "      <th>transaction_id</th>\n",
       "      <th>visitor_id</th>\n",
       "      <th>date</th>\n",
       "      <th>revenue</th>\n",
       "      <th>group</th>\n",
       "    </tr>\n",
       "  </thead>\n",
       "  <tbody>\n",
       "    <tr>\n",
       "      <th>0</th>\n",
       "      <td>3667963787</td>\n",
       "      <td>3312258926</td>\n",
       "      <td>2019-08-15</td>\n",
       "      <td>1650</td>\n",
       "      <td>B</td>\n",
       "    </tr>\n",
       "    <tr>\n",
       "      <th>1</th>\n",
       "      <td>2804400009</td>\n",
       "      <td>3642806036</td>\n",
       "      <td>2019-08-15</td>\n",
       "      <td>730</td>\n",
       "      <td>B</td>\n",
       "    </tr>\n",
       "    <tr>\n",
       "      <th>2</th>\n",
       "      <td>2961555356</td>\n",
       "      <td>4069496402</td>\n",
       "      <td>2019-08-15</td>\n",
       "      <td>400</td>\n",
       "      <td>A</td>\n",
       "    </tr>\n",
       "    <tr>\n",
       "      <th>3</th>\n",
       "      <td>3797467345</td>\n",
       "      <td>1196621759</td>\n",
       "      <td>2019-08-15</td>\n",
       "      <td>9759</td>\n",
       "      <td>B</td>\n",
       "    </tr>\n",
       "    <tr>\n",
       "      <th>4</th>\n",
       "      <td>2282983706</td>\n",
       "      <td>2322279887</td>\n",
       "      <td>2019-08-15</td>\n",
       "      <td>2308</td>\n",
       "      <td>B</td>\n",
       "    </tr>\n",
       "  </tbody>\n",
       "</table>\n",
       "</div>"
      ],
      "text/plain": [
       "   transaction_id  visitor_id       date  revenue group\n",
       "0      3667963787  3312258926 2019-08-15     1650     B\n",
       "1      2804400009  3642806036 2019-08-15      730     B\n",
       "2      2961555356  4069496402 2019-08-15      400     A\n",
       "3      3797467345  1196621759 2019-08-15     9759     B\n",
       "4      2282983706  2322279887 2019-08-15     2308     B"
      ]
     },
     "execution_count": 10,
     "metadata": {},
     "output_type": "execute_result"
    }
   ],
   "source": [
    "print(orders.info())\n",
    "print(\"Количество дубликатов:\", orders.duplicated().sum())\n",
    "orders.head()"
   ]
  },
  {
   "cell_type": "code",
   "execution_count": 11,
   "metadata": {},
   "outputs": [
    {
     "name": "stdout",
     "output_type": "stream",
     "text": [
      "<class 'pandas.core.frame.DataFrame'>\n",
      "RangeIndex: 62 entries, 0 to 61\n",
      "Data columns (total 3 columns):\n",
      " #   Column    Non-Null Count  Dtype         \n",
      "---  ------    --------------  -----         \n",
      " 0   date      62 non-null     datetime64[ns]\n",
      " 1   group     62 non-null     object        \n",
      " 2   visitors  62 non-null     int64         \n",
      "dtypes: datetime64[ns](1), int64(1), object(1)\n",
      "memory usage: 1.6+ KB\n",
      "None\n",
      "Количество дубликатов: 0\n"
     ]
    },
    {
     "data": {
      "text/html": [
       "<div>\n",
       "<style scoped>\n",
       "    .dataframe tbody tr th:only-of-type {\n",
       "        vertical-align: middle;\n",
       "    }\n",
       "\n",
       "    .dataframe tbody tr th {\n",
       "        vertical-align: top;\n",
       "    }\n",
       "\n",
       "    .dataframe thead th {\n",
       "        text-align: right;\n",
       "    }\n",
       "</style>\n",
       "<table border=\"1\" class=\"dataframe\">\n",
       "  <thead>\n",
       "    <tr style=\"text-align: right;\">\n",
       "      <th></th>\n",
       "      <th>date</th>\n",
       "      <th>group</th>\n",
       "      <th>visitors</th>\n",
       "    </tr>\n",
       "  </thead>\n",
       "  <tbody>\n",
       "    <tr>\n",
       "      <th>0</th>\n",
       "      <td>2019-08-01</td>\n",
       "      <td>A</td>\n",
       "      <td>719</td>\n",
       "    </tr>\n",
       "    <tr>\n",
       "      <th>1</th>\n",
       "      <td>2019-08-02</td>\n",
       "      <td>A</td>\n",
       "      <td>619</td>\n",
       "    </tr>\n",
       "    <tr>\n",
       "      <th>2</th>\n",
       "      <td>2019-08-03</td>\n",
       "      <td>A</td>\n",
       "      <td>507</td>\n",
       "    </tr>\n",
       "    <tr>\n",
       "      <th>3</th>\n",
       "      <td>2019-08-04</td>\n",
       "      <td>A</td>\n",
       "      <td>717</td>\n",
       "    </tr>\n",
       "    <tr>\n",
       "      <th>4</th>\n",
       "      <td>2019-08-05</td>\n",
       "      <td>A</td>\n",
       "      <td>756</td>\n",
       "    </tr>\n",
       "  </tbody>\n",
       "</table>\n",
       "</div>"
      ],
      "text/plain": [
       "        date group  visitors\n",
       "0 2019-08-01     A       719\n",
       "1 2019-08-02     A       619\n",
       "2 2019-08-03     A       507\n",
       "3 2019-08-04     A       717\n",
       "4 2019-08-05     A       756"
      ]
     },
     "execution_count": 11,
     "metadata": {},
     "output_type": "execute_result"
    }
   ],
   "source": [
    "print(visitors.info())\n",
    "print(\"Количество дубликатов:\", visitors.duplicated().sum())\n",
    "visitors.head()"
   ]
  },
  {
   "cell_type": "markdown",
   "metadata": {},
   "source": [
    "Пропущенных данных и дубликатов нет. Можно приступать к приоритезации гипотез."
   ]
  },
  {
   "cell_type": "markdown",
   "metadata": {},
   "source": [
    "## Приоритизация гипотез."
   ]
  },
  {
   "cell_type": "markdown",
   "metadata": {},
   "source": [
    "Выведем полное описание гипотез."
   ]
  },
  {
   "cell_type": "code",
   "execution_count": 12,
   "metadata": {},
   "outputs": [
    {
     "data": {
      "text/plain": [
       "0              Добавить два новых канала привлечения трафика, что позволит привлекать на 30% больше пользователей\n",
       "1                                       Запустить собственную службу доставки, что сократит срок доставки заказов\n",
       "2    Добавить блоки рекомендаций товаров на сайт интернет магазина, чтобы повысить конверсию и средний чек заказа\n",
       "3             Изменить структура категорий, что увеличит конверсию, т.к. пользователи быстрее найдут нужный товар\n",
       "4                                Изменить цвет фона главной страницы, чтобы увеличить вовлеченность пользователей\n",
       "5                        Добавить страницу отзывов клиентов о магазине, что позволит увеличить количество заказов\n",
       "6            Показать на главной странице баннеры с актуальными акциями и распродажами, чтобы увеличить конверсию\n",
       "7                Добавить форму подписки на все основные страницы, чтобы собрать базу клиентов для email-рассылок\n",
       "8                                                         Запустить акцию, дающую скидку на товар в день рождения\n",
       "Name: hypothesis, dtype: object"
      ]
     },
     "execution_count": 12,
     "metadata": {},
     "output_type": "execute_result"
    }
   ],
   "source": [
    "pd.options.display.max_colwidth = 150\n",
    "hypothesis.hypothesis"
   ]
  },
  {
   "cell_type": "code",
   "execution_count": 13,
   "metadata": {},
   "outputs": [
    {
     "data": {
      "text/html": [
       "<div>\n",
       "<style scoped>\n",
       "    .dataframe tbody tr th:only-of-type {\n",
       "        vertical-align: middle;\n",
       "    }\n",
       "\n",
       "    .dataframe tbody tr th {\n",
       "        vertical-align: top;\n",
       "    }\n",
       "\n",
       "    .dataframe thead th {\n",
       "        text-align: right;\n",
       "    }\n",
       "</style>\n",
       "<table border=\"1\" class=\"dataframe\">\n",
       "  <thead>\n",
       "    <tr style=\"text-align: right;\">\n",
       "      <th></th>\n",
       "      <th>hypothesis</th>\n",
       "      <th>ice_score</th>\n",
       "    </tr>\n",
       "  </thead>\n",
       "  <tbody>\n",
       "    <tr>\n",
       "      <th>8</th>\n",
       "      <td>Запустить акцию, дающую скидку на товар в день рождения</td>\n",
       "      <td>16.20</td>\n",
       "    </tr>\n",
       "    <tr>\n",
       "      <th>0</th>\n",
       "      <td>Добавить два новых канала привлечения трафика, что позволит привлекать на 30% больше пользователей</td>\n",
       "      <td>13.33</td>\n",
       "    </tr>\n",
       "    <tr>\n",
       "      <th>7</th>\n",
       "      <td>Добавить форму подписки на все основные страницы, чтобы собрать базу клиентов для email-рассылок</td>\n",
       "      <td>11.20</td>\n",
       "    </tr>\n",
       "    <tr>\n",
       "      <th>6</th>\n",
       "      <td>Показать на главной странице баннеры с актуальными акциями и распродажами, чтобы увеличить конверсию</td>\n",
       "      <td>8.00</td>\n",
       "    </tr>\n",
       "    <tr>\n",
       "      <th>2</th>\n",
       "      <td>Добавить блоки рекомендаций товаров на сайт интернет магазина, чтобы повысить конверсию и средний чек заказа</td>\n",
       "      <td>7.00</td>\n",
       "    </tr>\n",
       "    <tr>\n",
       "      <th>1</th>\n",
       "      <td>Запустить собственную службу доставки, что сократит срок доставки заказов</td>\n",
       "      <td>2.00</td>\n",
       "    </tr>\n",
       "    <tr>\n",
       "      <th>5</th>\n",
       "      <td>Добавить страницу отзывов клиентов о магазине, что позволит увеличить количество заказов</td>\n",
       "      <td>1.33</td>\n",
       "    </tr>\n",
       "    <tr>\n",
       "      <th>3</th>\n",
       "      <td>Изменить структура категорий, что увеличит конверсию, т.к. пользователи быстрее найдут нужный товар</td>\n",
       "      <td>1.12</td>\n",
       "    </tr>\n",
       "    <tr>\n",
       "      <th>4</th>\n",
       "      <td>Изменить цвет фона главной страницы, чтобы увеличить вовлеченность пользователей</td>\n",
       "      <td>1.00</td>\n",
       "    </tr>\n",
       "  </tbody>\n",
       "</table>\n",
       "</div>"
      ],
      "text/plain": [
       "                                                                                                     hypothesis  \\\n",
       "8                                                       Запустить акцию, дающую скидку на товар в день рождения   \n",
       "0            Добавить два новых канала привлечения трафика, что позволит привлекать на 30% больше пользователей   \n",
       "7              Добавить форму подписки на все основные страницы, чтобы собрать базу клиентов для email-рассылок   \n",
       "6          Показать на главной странице баннеры с актуальными акциями и распродажами, чтобы увеличить конверсию   \n",
       "2  Добавить блоки рекомендаций товаров на сайт интернет магазина, чтобы повысить конверсию и средний чек заказа   \n",
       "1                                     Запустить собственную службу доставки, что сократит срок доставки заказов   \n",
       "5                      Добавить страницу отзывов клиентов о магазине, что позволит увеличить количество заказов   \n",
       "3           Изменить структура категорий, что увеличит конверсию, т.к. пользователи быстрее найдут нужный товар   \n",
       "4                              Изменить цвет фона главной страницы, чтобы увеличить вовлеченность пользователей   \n",
       "\n",
       "   ice_score  \n",
       "8      16.20  \n",
       "0      13.33  \n",
       "7      11.20  \n",
       "6       8.00  \n",
       "2       7.00  \n",
       "1       2.00  \n",
       "5       1.33  \n",
       "3       1.12  \n",
       "4       1.00  "
      ]
     },
     "execution_count": 13,
     "metadata": {},
     "output_type": "execute_result"
    }
   ],
   "source": [
    "# расчтаем по формуле (impact * confidense)/efforts \n",
    "hypothesis['ice_score'] = round((hypothesis['impact'] * hypothesis['confidence']) / hypothesis['efforts'],2)\n",
    "# выведем название гипотезы, остортиорованные по убываню ice_score\n",
    "hypothesis[['hypothesis', 'ice_score']].sort_values(by='ice_score', ascending=False)  \n"
   ]
  },
  {
   "cell_type": "code",
   "execution_count": 14,
   "metadata": {
    "scrolled": false
   },
   "outputs": [
    {
     "data": {
      "text/html": [
       "<div>\n",
       "<style scoped>\n",
       "    .dataframe tbody tr th:only-of-type {\n",
       "        vertical-align: middle;\n",
       "    }\n",
       "\n",
       "    .dataframe tbody tr th {\n",
       "        vertical-align: top;\n",
       "    }\n",
       "\n",
       "    .dataframe thead th {\n",
       "        text-align: right;\n",
       "    }\n",
       "</style>\n",
       "<table border=\"1\" class=\"dataframe\">\n",
       "  <thead>\n",
       "    <tr style=\"text-align: right;\">\n",
       "      <th></th>\n",
       "      <th>hypothesis</th>\n",
       "      <th>rice_score</th>\n",
       "    </tr>\n",
       "  </thead>\n",
       "  <tbody>\n",
       "    <tr>\n",
       "      <th>7</th>\n",
       "      <td>Добавить форму подписки на все основные страницы, чтобы собрать базу клиентов для email-рассылок</td>\n",
       "      <td>112.00</td>\n",
       "    </tr>\n",
       "    <tr>\n",
       "      <th>2</th>\n",
       "      <td>Добавить блоки рекомендаций товаров на сайт интернет магазина, чтобы повысить конверсию и средний чек заказа</td>\n",
       "      <td>56.00</td>\n",
       "    </tr>\n",
       "    <tr>\n",
       "      <th>6</th>\n",
       "      <td>Показать на главной странице баннеры с актуальными акциями и распродажами, чтобы увеличить конверсию</td>\n",
       "      <td>40.00</td>\n",
       "    </tr>\n",
       "    <tr>\n",
       "      <th>0</th>\n",
       "      <td>Добавить два новых канала привлечения трафика, что позволит привлекать на 30% больше пользователей</td>\n",
       "      <td>39.99</td>\n",
       "    </tr>\n",
       "    <tr>\n",
       "      <th>8</th>\n",
       "      <td>Запустить акцию, дающую скидку на товар в день рождения</td>\n",
       "      <td>16.20</td>\n",
       "    </tr>\n",
       "    <tr>\n",
       "      <th>3</th>\n",
       "      <td>Изменить структура категорий, что увеличит конверсию, т.к. пользователи быстрее найдут нужный товар</td>\n",
       "      <td>8.96</td>\n",
       "    </tr>\n",
       "    <tr>\n",
       "      <th>1</th>\n",
       "      <td>Запустить собственную службу доставки, что сократит срок доставки заказов</td>\n",
       "      <td>4.00</td>\n",
       "    </tr>\n",
       "    <tr>\n",
       "      <th>5</th>\n",
       "      <td>Добавить страницу отзывов клиентов о магазине, что позволит увеличить количество заказов</td>\n",
       "      <td>3.99</td>\n",
       "    </tr>\n",
       "    <tr>\n",
       "      <th>4</th>\n",
       "      <td>Изменить цвет фона главной страницы, чтобы увеличить вовлеченность пользователей</td>\n",
       "      <td>3.00</td>\n",
       "    </tr>\n",
       "  </tbody>\n",
       "</table>\n",
       "</div>"
      ],
      "text/plain": [
       "                                                                                                     hypothesis  \\\n",
       "7              Добавить форму подписки на все основные страницы, чтобы собрать базу клиентов для email-рассылок   \n",
       "2  Добавить блоки рекомендаций товаров на сайт интернет магазина, чтобы повысить конверсию и средний чек заказа   \n",
       "6          Показать на главной странице баннеры с актуальными акциями и распродажами, чтобы увеличить конверсию   \n",
       "0            Добавить два новых канала привлечения трафика, что позволит привлекать на 30% больше пользователей   \n",
       "8                                                       Запустить акцию, дающую скидку на товар в день рождения   \n",
       "3           Изменить структура категорий, что увеличит конверсию, т.к. пользователи быстрее найдут нужный товар   \n",
       "1                                     Запустить собственную службу доставки, что сократит срок доставки заказов   \n",
       "5                      Добавить страницу отзывов клиентов о магазине, что позволит увеличить количество заказов   \n",
       "4                              Изменить цвет фона главной страницы, чтобы увеличить вовлеченность пользователей   \n",
       "\n",
       "   rice_score  \n",
       "7      112.00  \n",
       "2       56.00  \n",
       "6       40.00  \n",
       "0       39.99  \n",
       "8       16.20  \n",
       "3        8.96  \n",
       "1        4.00  \n",
       "5        3.99  \n",
       "4        3.00  "
      ]
     },
     "execution_count": 14,
     "metadata": {},
     "output_type": "execute_result"
    }
   ],
   "source": [
    "# расчтаем по формуле (impact * confidense * reach)/efforts \n",
    "hypothesis['rice_score'] = hypothesis['ice_score']* hypothesis['reach'] \n",
    "# выведем название гипотезы, остортиорованные по убываню rice_score\n",
    "hypothesis[['hypothesis', 'rice_score']].sort_values(by='rice_score', ascending=False)   "
   ]
  },
  {
   "cell_type": "markdown",
   "metadata": {},
   "source": [
    "Рассмотрим компоненты гипотез."
   ]
  },
  {
   "cell_type": "code",
   "execution_count": 15,
   "metadata": {},
   "outputs": [
    {
     "data": {
      "text/html": [
       "<div>\n",
       "<style scoped>\n",
       "    .dataframe tbody tr th:only-of-type {\n",
       "        vertical-align: middle;\n",
       "    }\n",
       "\n",
       "    .dataframe tbody tr th {\n",
       "        vertical-align: top;\n",
       "    }\n",
       "\n",
       "    .dataframe thead th {\n",
       "        text-align: right;\n",
       "    }\n",
       "</style>\n",
       "<table border=\"1\" class=\"dataframe\">\n",
       "  <thead>\n",
       "    <tr style=\"text-align: right;\">\n",
       "      <th></th>\n",
       "      <th>hypothesis</th>\n",
       "      <th>reach</th>\n",
       "      <th>impact</th>\n",
       "      <th>confidence</th>\n",
       "      <th>efforts</th>\n",
       "      <th>ice_score</th>\n",
       "      <th>rice_score</th>\n",
       "    </tr>\n",
       "  </thead>\n",
       "  <tbody>\n",
       "    <tr>\n",
       "      <th>8</th>\n",
       "      <td>Запустить акцию, дающую скидку на товар в день рождения</td>\n",
       "      <td>1</td>\n",
       "      <td>9</td>\n",
       "      <td>9</td>\n",
       "      <td>5</td>\n",
       "      <td>16.20</td>\n",
       "      <td>16.20</td>\n",
       "    </tr>\n",
       "    <tr>\n",
       "      <th>0</th>\n",
       "      <td>Добавить два новых канала привлечения трафика, что позволит привлекать на 30% больше пользователей</td>\n",
       "      <td>3</td>\n",
       "      <td>10</td>\n",
       "      <td>8</td>\n",
       "      <td>6</td>\n",
       "      <td>13.33</td>\n",
       "      <td>39.99</td>\n",
       "    </tr>\n",
       "    <tr>\n",
       "      <th>7</th>\n",
       "      <td>Добавить форму подписки на все основные страницы, чтобы собрать базу клиентов для email-рассылок</td>\n",
       "      <td>10</td>\n",
       "      <td>7</td>\n",
       "      <td>8</td>\n",
       "      <td>5</td>\n",
       "      <td>11.20</td>\n",
       "      <td>112.00</td>\n",
       "    </tr>\n",
       "    <tr>\n",
       "      <th>6</th>\n",
       "      <td>Показать на главной странице баннеры с актуальными акциями и распродажами, чтобы увеличить конверсию</td>\n",
       "      <td>5</td>\n",
       "      <td>3</td>\n",
       "      <td>8</td>\n",
       "      <td>3</td>\n",
       "      <td>8.00</td>\n",
       "      <td>40.00</td>\n",
       "    </tr>\n",
       "    <tr>\n",
       "      <th>2</th>\n",
       "      <td>Добавить блоки рекомендаций товаров на сайт интернет магазина, чтобы повысить конверсию и средний чек заказа</td>\n",
       "      <td>8</td>\n",
       "      <td>3</td>\n",
       "      <td>7</td>\n",
       "      <td>3</td>\n",
       "      <td>7.00</td>\n",
       "      <td>56.00</td>\n",
       "    </tr>\n",
       "    <tr>\n",
       "      <th>1</th>\n",
       "      <td>Запустить собственную службу доставки, что сократит срок доставки заказов</td>\n",
       "      <td>2</td>\n",
       "      <td>5</td>\n",
       "      <td>4</td>\n",
       "      <td>10</td>\n",
       "      <td>2.00</td>\n",
       "      <td>4.00</td>\n",
       "    </tr>\n",
       "    <tr>\n",
       "      <th>5</th>\n",
       "      <td>Добавить страницу отзывов клиентов о магазине, что позволит увеличить количество заказов</td>\n",
       "      <td>3</td>\n",
       "      <td>2</td>\n",
       "      <td>2</td>\n",
       "      <td>3</td>\n",
       "      <td>1.33</td>\n",
       "      <td>3.99</td>\n",
       "    </tr>\n",
       "    <tr>\n",
       "      <th>3</th>\n",
       "      <td>Изменить структура категорий, что увеличит конверсию, т.к. пользователи быстрее найдут нужный товар</td>\n",
       "      <td>8</td>\n",
       "      <td>3</td>\n",
       "      <td>3</td>\n",
       "      <td>8</td>\n",
       "      <td>1.12</td>\n",
       "      <td>8.96</td>\n",
       "    </tr>\n",
       "    <tr>\n",
       "      <th>4</th>\n",
       "      <td>Изменить цвет фона главной страницы, чтобы увеличить вовлеченность пользователей</td>\n",
       "      <td>3</td>\n",
       "      <td>1</td>\n",
       "      <td>1</td>\n",
       "      <td>1</td>\n",
       "      <td>1.00</td>\n",
       "      <td>3.00</td>\n",
       "    </tr>\n",
       "  </tbody>\n",
       "</table>\n",
       "</div>"
      ],
      "text/plain": [
       "                                                                                                     hypothesis  \\\n",
       "8                                                       Запустить акцию, дающую скидку на товар в день рождения   \n",
       "0            Добавить два новых канала привлечения трафика, что позволит привлекать на 30% больше пользователей   \n",
       "7              Добавить форму подписки на все основные страницы, чтобы собрать базу клиентов для email-рассылок   \n",
       "6          Показать на главной странице баннеры с актуальными акциями и распродажами, чтобы увеличить конверсию   \n",
       "2  Добавить блоки рекомендаций товаров на сайт интернет магазина, чтобы повысить конверсию и средний чек заказа   \n",
       "1                                     Запустить собственную службу доставки, что сократит срок доставки заказов   \n",
       "5                      Добавить страницу отзывов клиентов о магазине, что позволит увеличить количество заказов   \n",
       "3           Изменить структура категорий, что увеличит конверсию, т.к. пользователи быстрее найдут нужный товар   \n",
       "4                              Изменить цвет фона главной страницы, чтобы увеличить вовлеченность пользователей   \n",
       "\n",
       "   reach  impact  confidence  efforts  ice_score  rice_score  \n",
       "8      1       9           9        5      16.20       16.20  \n",
       "0      3      10           8        6      13.33       39.99  \n",
       "7     10       7           8        5      11.20      112.00  \n",
       "6      5       3           8        3       8.00       40.00  \n",
       "2      8       3           7        3       7.00       56.00  \n",
       "1      2       5           4       10       2.00        4.00  \n",
       "5      3       2           2        3       1.33        3.99  \n",
       "3      8       3           3        8       1.12        8.96  \n",
       "4      3       1           1        1       1.00        3.00  "
      ]
     },
     "execution_count": 15,
     "metadata": {},
     "output_type": "execute_result"
    }
   ],
   "source": [
    "hypothesis.sort_values(by='ice_score', ascending=False)    "
   ]
  },
  {
   "cell_type": "markdown",
   "metadata": {},
   "source": [
    "\"Запустить акцию, дающую скидку на товар в день рождения\":  \n",
    "impact и confidence - почти максимальные показатели, это не удивительно, ведь людям нравится получать подарки - это довольно очевидно, поэтому эта гипотеза так выделяется;  \n",
    "efforts - средний, например, организовать рекламу, сообщающую об акции, будет не так дорого."
   ]
  },
  {
   "cell_type": "code",
   "execution_count": 16,
   "metadata": {},
   "outputs": [
    {
     "data": {
      "text/html": [
       "<div>\n",
       "<style scoped>\n",
       "    .dataframe tbody tr th:only-of-type {\n",
       "        vertical-align: middle;\n",
       "    }\n",
       "\n",
       "    .dataframe tbody tr th {\n",
       "        vertical-align: top;\n",
       "    }\n",
       "\n",
       "    .dataframe thead th {\n",
       "        text-align: right;\n",
       "    }\n",
       "</style>\n",
       "<table border=\"1\" class=\"dataframe\">\n",
       "  <thead>\n",
       "    <tr style=\"text-align: right;\">\n",
       "      <th></th>\n",
       "      <th>hypothesis</th>\n",
       "      <th>reach</th>\n",
       "      <th>impact</th>\n",
       "      <th>confidence</th>\n",
       "      <th>efforts</th>\n",
       "      <th>ice_score</th>\n",
       "      <th>rice_score</th>\n",
       "    </tr>\n",
       "  </thead>\n",
       "  <tbody>\n",
       "    <tr>\n",
       "      <th>7</th>\n",
       "      <td>Добавить форму подписки на все основные страницы, чтобы собрать базу клиентов для email-рассылок</td>\n",
       "      <td>10</td>\n",
       "      <td>7</td>\n",
       "      <td>8</td>\n",
       "      <td>5</td>\n",
       "      <td>11.20</td>\n",
       "      <td>112.00</td>\n",
       "    </tr>\n",
       "    <tr>\n",
       "      <th>2</th>\n",
       "      <td>Добавить блоки рекомендаций товаров на сайт интернет магазина, чтобы повысить конверсию и средний чек заказа</td>\n",
       "      <td>8</td>\n",
       "      <td>3</td>\n",
       "      <td>7</td>\n",
       "      <td>3</td>\n",
       "      <td>7.00</td>\n",
       "      <td>56.00</td>\n",
       "    </tr>\n",
       "    <tr>\n",
       "      <th>6</th>\n",
       "      <td>Показать на главной странице баннеры с актуальными акциями и распродажами, чтобы увеличить конверсию</td>\n",
       "      <td>5</td>\n",
       "      <td>3</td>\n",
       "      <td>8</td>\n",
       "      <td>3</td>\n",
       "      <td>8.00</td>\n",
       "      <td>40.00</td>\n",
       "    </tr>\n",
       "    <tr>\n",
       "      <th>0</th>\n",
       "      <td>Добавить два новых канала привлечения трафика, что позволит привлекать на 30% больше пользователей</td>\n",
       "      <td>3</td>\n",
       "      <td>10</td>\n",
       "      <td>8</td>\n",
       "      <td>6</td>\n",
       "      <td>13.33</td>\n",
       "      <td>39.99</td>\n",
       "    </tr>\n",
       "    <tr>\n",
       "      <th>8</th>\n",
       "      <td>Запустить акцию, дающую скидку на товар в день рождения</td>\n",
       "      <td>1</td>\n",
       "      <td>9</td>\n",
       "      <td>9</td>\n",
       "      <td>5</td>\n",
       "      <td>16.20</td>\n",
       "      <td>16.20</td>\n",
       "    </tr>\n",
       "    <tr>\n",
       "      <th>3</th>\n",
       "      <td>Изменить структура категорий, что увеличит конверсию, т.к. пользователи быстрее найдут нужный товар</td>\n",
       "      <td>8</td>\n",
       "      <td>3</td>\n",
       "      <td>3</td>\n",
       "      <td>8</td>\n",
       "      <td>1.12</td>\n",
       "      <td>8.96</td>\n",
       "    </tr>\n",
       "    <tr>\n",
       "      <th>1</th>\n",
       "      <td>Запустить собственную службу доставки, что сократит срок доставки заказов</td>\n",
       "      <td>2</td>\n",
       "      <td>5</td>\n",
       "      <td>4</td>\n",
       "      <td>10</td>\n",
       "      <td>2.00</td>\n",
       "      <td>4.00</td>\n",
       "    </tr>\n",
       "    <tr>\n",
       "      <th>5</th>\n",
       "      <td>Добавить страницу отзывов клиентов о магазине, что позволит увеличить количество заказов</td>\n",
       "      <td>3</td>\n",
       "      <td>2</td>\n",
       "      <td>2</td>\n",
       "      <td>3</td>\n",
       "      <td>1.33</td>\n",
       "      <td>3.99</td>\n",
       "    </tr>\n",
       "    <tr>\n",
       "      <th>4</th>\n",
       "      <td>Изменить цвет фона главной страницы, чтобы увеличить вовлеченность пользователей</td>\n",
       "      <td>3</td>\n",
       "      <td>1</td>\n",
       "      <td>1</td>\n",
       "      <td>1</td>\n",
       "      <td>1.00</td>\n",
       "      <td>3.00</td>\n",
       "    </tr>\n",
       "  </tbody>\n",
       "</table>\n",
       "</div>"
      ],
      "text/plain": [
       "                                                                                                     hypothesis  \\\n",
       "7              Добавить форму подписки на все основные страницы, чтобы собрать базу клиентов для email-рассылок   \n",
       "2  Добавить блоки рекомендаций товаров на сайт интернет магазина, чтобы повысить конверсию и средний чек заказа   \n",
       "6          Показать на главной странице баннеры с актуальными акциями и распродажами, чтобы увеличить конверсию   \n",
       "0            Добавить два новых канала привлечения трафика, что позволит привлекать на 30% больше пользователей   \n",
       "8                                                       Запустить акцию, дающую скидку на товар в день рождения   \n",
       "3           Изменить структура категорий, что увеличит конверсию, т.к. пользователи быстрее найдут нужный товар   \n",
       "1                                     Запустить собственную службу доставки, что сократит срок доставки заказов   \n",
       "5                      Добавить страницу отзывов клиентов о магазине, что позволит увеличить количество заказов   \n",
       "4                              Изменить цвет фона главной страницы, чтобы увеличить вовлеченность пользователей   \n",
       "\n",
       "   reach  impact  confidence  efforts  ice_score  rice_score  \n",
       "7     10       7           8        5      11.20      112.00  \n",
       "2      8       3           7        3       7.00       56.00  \n",
       "6      5       3           8        3       8.00       40.00  \n",
       "0      3      10           8        6      13.33       39.99  \n",
       "8      1       9           9        5      16.20       16.20  \n",
       "3      8       3           3        8       1.12        8.96  \n",
       "1      2       5           4       10       2.00        4.00  \n",
       "5      3       2           2        3       1.33        3.99  \n",
       "4      3       1           1        1       1.00        3.00  "
      ]
     },
     "execution_count": 16,
     "metadata": {},
     "output_type": "execute_result"
    }
   ],
   "source": [
    "hypothesis.sort_values(by='rice_score', ascending=False)"
   ]
  },
  {
   "cell_type": "markdown",
   "metadata": {},
   "source": [
    "\"Добавить форму подписки на все основные страницы, чтобы собрать базу клиентов для email-рассылок\":  \n",
    "reach - 10 баллов. добавив форму подписки на все основные страницы - ни будет пропущен ни один пользователей, зашедший на сайт  \n",
    "impact - 7 баллов. форма с подпиской совершенно новое предстовление для пользвателей сервиса, он может существенно оказать влияние  \n",
    "сonfidence - 8 баллов. данная оценка была дана на основе данных эскпеортов и нет никаких оснований ей не доверять, действительно, введение подписки довольно популярно в последние время и показывает положетельное влияние на диджитал продукты  \n",
    "efforts - 5 баллов. средняя оценка, добавление небольшой формы на сайт не такая большая и сложная задача для разработчка    "
   ]
  },
  {
   "cell_type": "markdown",
   "metadata": {},
   "source": [
    "Видим, что с добавлением охвата пользователей, приоритезация изменилась, разберём на примере акцией со скидкой на день рождения, сейчас она занимает, только 6е место - всё потому что компонент reach - имеет только 1 балл, действительно, изменения затронет намиеньшую группу польщователей, ведь акцией можно будет воспользоваться только 1 раз в год и в определенную дату.  \n",
    "\n",
    "Несмотря на то, что данные методы очень похожи приоритезация гипотезы в зависимости от выбора того или иного, может существенно различаться, если мы ищем гипотезу, которая охватит больший круг пользователей, то выбираем RICE, если этот компонент не так важен или не для каждой гипотезы его можно объективно оценть, то ICE."
   ]
  },
  {
   "cell_type": "markdown",
   "metadata": {},
   "source": [
    "## Анализ A/B-теста"
   ]
  },
  {
   "cell_type": "code",
   "execution_count": 17,
   "metadata": {},
   "outputs": [
    {
     "data": {
      "text/html": [
       "<div>\n",
       "<style scoped>\n",
       "    .dataframe tbody tr th:only-of-type {\n",
       "        vertical-align: middle;\n",
       "    }\n",
       "\n",
       "    .dataframe tbody tr th {\n",
       "        vertical-align: top;\n",
       "    }\n",
       "\n",
       "    .dataframe thead th {\n",
       "        text-align: right;\n",
       "    }\n",
       "</style>\n",
       "<table border=\"1\" class=\"dataframe\">\n",
       "  <thead>\n",
       "    <tr style=\"text-align: right;\">\n",
       "      <th></th>\n",
       "      <th>date</th>\n",
       "      <th>group</th>\n",
       "      <th>transaction_id</th>\n",
       "      <th>visitor_id</th>\n",
       "      <th>revenue</th>\n",
       "    </tr>\n",
       "  </thead>\n",
       "  <tbody>\n",
       "    <tr>\n",
       "      <th>55</th>\n",
       "      <td>2019-08-01</td>\n",
       "      <td>A</td>\n",
       "      <td>24</td>\n",
       "      <td>20</td>\n",
       "      <td>148579</td>\n",
       "    </tr>\n",
       "    <tr>\n",
       "      <th>66</th>\n",
       "      <td>2019-08-01</td>\n",
       "      <td>B</td>\n",
       "      <td>21</td>\n",
       "      <td>20</td>\n",
       "      <td>101217</td>\n",
       "    </tr>\n",
       "    <tr>\n",
       "      <th>175</th>\n",
       "      <td>2019-08-02</td>\n",
       "      <td>A</td>\n",
       "      <td>44</td>\n",
       "      <td>38</td>\n",
       "      <td>242401</td>\n",
       "    </tr>\n",
       "    <tr>\n",
       "      <th>173</th>\n",
       "      <td>2019-08-02</td>\n",
       "      <td>B</td>\n",
       "      <td>45</td>\n",
       "      <td>43</td>\n",
       "      <td>266748</td>\n",
       "    </tr>\n",
       "    <tr>\n",
       "      <th>291</th>\n",
       "      <td>2019-08-03</td>\n",
       "      <td>A</td>\n",
       "      <td>68</td>\n",
       "      <td>62</td>\n",
       "      <td>354874</td>\n",
       "    </tr>\n",
       "  </tbody>\n",
       "</table>\n",
       "</div>"
      ],
      "text/plain": [
       "          date group  transaction_id  visitor_id  revenue\n",
       "55  2019-08-01     A              24          20   148579\n",
       "66  2019-08-01     B              21          20   101217\n",
       "175 2019-08-02     A              44          38   242401\n",
       "173 2019-08-02     B              45          43   266748\n",
       "291 2019-08-03     A              68          62   354874"
      ]
     },
     "metadata": {},
     "output_type": "display_data"
    },
    {
     "name": "stdout",
     "output_type": "stream",
     "text": [
      "\n"
     ]
    },
    {
     "data": {
      "text/html": [
       "<div>\n",
       "<style scoped>\n",
       "    .dataframe tbody tr th:only-of-type {\n",
       "        vertical-align: middle;\n",
       "    }\n",
       "\n",
       "    .dataframe tbody tr th {\n",
       "        vertical-align: top;\n",
       "    }\n",
       "\n",
       "    .dataframe thead th {\n",
       "        text-align: right;\n",
       "    }\n",
       "</style>\n",
       "<table border=\"1\" class=\"dataframe\">\n",
       "  <thead>\n",
       "    <tr style=\"text-align: right;\">\n",
       "      <th></th>\n",
       "      <th>date</th>\n",
       "      <th>group</th>\n",
       "      <th>visitors</th>\n",
       "    </tr>\n",
       "  </thead>\n",
       "  <tbody>\n",
       "    <tr>\n",
       "      <th>55</th>\n",
       "      <td>2019-08-01</td>\n",
       "      <td>A</td>\n",
       "      <td>719</td>\n",
       "    </tr>\n",
       "    <tr>\n",
       "      <th>66</th>\n",
       "      <td>2019-08-01</td>\n",
       "      <td>B</td>\n",
       "      <td>713</td>\n",
       "    </tr>\n",
       "    <tr>\n",
       "      <th>175</th>\n",
       "      <td>2019-08-02</td>\n",
       "      <td>A</td>\n",
       "      <td>1338</td>\n",
       "    </tr>\n",
       "    <tr>\n",
       "      <th>173</th>\n",
       "      <td>2019-08-02</td>\n",
       "      <td>B</td>\n",
       "      <td>1294</td>\n",
       "    </tr>\n",
       "    <tr>\n",
       "      <th>291</th>\n",
       "      <td>2019-08-03</td>\n",
       "      <td>A</td>\n",
       "      <td>1845</td>\n",
       "    </tr>\n",
       "  </tbody>\n",
       "</table>\n",
       "</div>"
      ],
      "text/plain": [
       "          date group  visitors\n",
       "55  2019-08-01     A       719\n",
       "66  2019-08-01     B       713\n",
       "175 2019-08-02     A      1338\n",
       "173 2019-08-02     B      1294\n",
       "291 2019-08-03     A      1845"
      ]
     },
     "metadata": {},
     "output_type": "display_data"
    }
   ],
   "source": [
    "#создаем массив уникальных пар значений дат и групп теста\n",
    "dt_groups = orders[['date', 'group']].drop_duplicates()  \n",
    "\n",
    "#получаем агрегированные кумулятивные по дням данные о заказах \n",
    "orders_aggregated = dt_groups.apply(\n",
    "    lambda x: orders[\n",
    "        np.logical_and(\n",
    "            orders['date'] <= x['date'], orders['group'] == x['group']\n",
    "        )\n",
    "    ].agg({\n",
    "            'date': 'max',\n",
    "            'group': 'max',\n",
    "            'transaction_id': 'nunique',\n",
    "            'visitor_id': 'nunique',\n",
    "            'revenue': 'sum',\n",
    "        }\n",
    "    ),\n",
    "    axis=1,\n",
    ").sort_values(by=['date', 'group'])\n",
    "\n",
    "# получаем агрегированные кумулятивные по дням данные о посетителях интернет-магазина \n",
    "visitors_aggregated = dt_groups.apply(\n",
    "    lambda x: visitors[\n",
    "        np.logical_and(\n",
    "            visitors['date'] <= x['date'], visitors['group'] == x['group']\n",
    "        )\n",
    "    ].agg({\n",
    "        'date': 'max',\n",
    "        'group': 'max', \n",
    "        'visitors': 'sum'\n",
    "    }\n",
    "    ),\n",
    "    axis=1,\n",
    ").sort_values(by=['date', 'group']) \n",
    "\n",
    "#выведем полученные таблицы на экран\n",
    "display(orders_aggregated.head()) \n",
    "print('')\n",
    "display(visitors_aggregated.head()) "
   ]
  },
  {
   "cell_type": "code",
   "execution_count": 18,
   "metadata": {},
   "outputs": [
    {
     "data": {
      "text/html": [
       "<div>\n",
       "<style scoped>\n",
       "    .dataframe tbody tr th:only-of-type {\n",
       "        vertical-align: middle;\n",
       "    }\n",
       "\n",
       "    .dataframe tbody tr th {\n",
       "        vertical-align: top;\n",
       "    }\n",
       "\n",
       "    .dataframe thead th {\n",
       "        text-align: right;\n",
       "    }\n",
       "</style>\n",
       "<table border=\"1\" class=\"dataframe\">\n",
       "  <thead>\n",
       "    <tr style=\"text-align: right;\">\n",
       "      <th></th>\n",
       "      <th>date</th>\n",
       "      <th>group</th>\n",
       "      <th>orders</th>\n",
       "      <th>buyers</th>\n",
       "      <th>revenue</th>\n",
       "      <th>visitors</th>\n",
       "    </tr>\n",
       "  </thead>\n",
       "  <tbody>\n",
       "    <tr>\n",
       "      <th>0</th>\n",
       "      <td>2019-08-01</td>\n",
       "      <td>A</td>\n",
       "      <td>24</td>\n",
       "      <td>20</td>\n",
       "      <td>148579</td>\n",
       "      <td>719</td>\n",
       "    </tr>\n",
       "    <tr>\n",
       "      <th>1</th>\n",
       "      <td>2019-08-01</td>\n",
       "      <td>B</td>\n",
       "      <td>21</td>\n",
       "      <td>20</td>\n",
       "      <td>101217</td>\n",
       "      <td>713</td>\n",
       "    </tr>\n",
       "    <tr>\n",
       "      <th>2</th>\n",
       "      <td>2019-08-02</td>\n",
       "      <td>A</td>\n",
       "      <td>44</td>\n",
       "      <td>38</td>\n",
       "      <td>242401</td>\n",
       "      <td>1338</td>\n",
       "    </tr>\n",
       "    <tr>\n",
       "      <th>3</th>\n",
       "      <td>2019-08-02</td>\n",
       "      <td>B</td>\n",
       "      <td>45</td>\n",
       "      <td>43</td>\n",
       "      <td>266748</td>\n",
       "      <td>1294</td>\n",
       "    </tr>\n",
       "    <tr>\n",
       "      <th>4</th>\n",
       "      <td>2019-08-03</td>\n",
       "      <td>A</td>\n",
       "      <td>68</td>\n",
       "      <td>62</td>\n",
       "      <td>354874</td>\n",
       "      <td>1845</td>\n",
       "    </tr>\n",
       "  </tbody>\n",
       "</table>\n",
       "</div>"
      ],
      "text/plain": [
       "        date group  orders  buyers  revenue  visitors\n",
       "0 2019-08-01     A      24      20   148579       719\n",
       "1 2019-08-01     B      21      20   101217       713\n",
       "2 2019-08-02     A      44      38   242401      1338\n",
       "3 2019-08-02     B      45      43   266748      1294\n",
       "4 2019-08-03     A      68      62   354874      1845"
      ]
     },
     "execution_count": 18,
     "metadata": {},
     "output_type": "execute_result"
    }
   ],
   "source": [
    "#объединям полученные таблицы по дате и группе \n",
    "cumulative_df = orders_aggregated.merge(\n",
    "    visitors_aggregated, left_on=['date', 'group'], right_on=['date', 'group']\n",
    ")\n",
    "#переименум столбцы \n",
    "cumulative_df.columns = [\n",
    "    'date',\n",
    "    'group',\n",
    "    'orders',\n",
    "    'buyers',\n",
    "    'revenue',\n",
    "    'visitors',\n",
    "] \n",
    "#выведем полученную таблицу\n",
    "cumulative_df.head()"
   ]
  },
  {
   "cell_type": "markdown",
   "metadata": {},
   "source": [
    "### Построим график кумулятивной выручки по группам. "
   ]
  },
  {
   "cell_type": "code",
   "execution_count": 19,
   "metadata": {},
   "outputs": [
    {
     "data": {
      "image/png": "[encoded data removed]",
      "text/plain": [
       "<Figure size 864x576 with 1 Axes>"
      ]
     },
     "metadata": {
      "needs_background": "light"
     },
     "output_type": "display_data"
    }
   ],
   "source": [
    "#зададим размеры графика \n",
    "plt.figure(figsize=(12,8))  \n",
    "\n",
    "# датафрейм с кумулятивным количеством заказов и кумулятивной выручкой по дням в группе А\n",
    "cumulative_revenue_a = cumulative_df[cumulative_df['group']=='A'][['date','revenue', 'orders']]\n",
    "\n",
    "# датафрейм с кумулятивным количеством заказов и кумулятивной выручкой по дням в группе B\n",
    "cumulative_revenue_b = cumulative_df[cumulative_df['group']=='B'][['date','revenue', 'orders']]\n",
    "\n",
    "# строим график выручки группы А\n",
    "plt.plot(cumulative_revenue_a['date'], cumulative_revenue_a['revenue'], label='A')\n",
    "\n",
    "# строим график выручки группы B\n",
    "plt.plot(cumulative_revenue_b['date'], cumulative_revenue_b['revenue'], label='B')\n",
    "\n",
    "# зададим описание графика\n",
    "plt.legend(['Группа А', 'Группа B']) \n",
    "plt.xlabel('Дата')\n",
    "plt.ylabel('Выручка') \n",
    "plt.title('Кумулятивная выручка по дням и группам A/B-тестирования')\n",
    "plt.show() \n"
   ]
  },
  {
   "cell_type": "markdown",
   "metadata": {},
   "source": [
    "Видим резкий скачок выручки группы B"
   ]
  },
  {
   "cell_type": "code",
   "execution_count": 20,
   "metadata": {},
   "outputs": [
    {
     "data": {
      "image/png": "[encoded data removed]",
      "text/plain": [
       "<Figure size 864x576 with 1 Axes>"
      ]
     },
     "metadata": {
      "needs_background": "light"
     },
     "output_type": "display_data"
    }
   ],
   "source": [
    "#зададим размеры графика \n",
    "plt.figure(figsize=(12,8)) \n",
    "plt.plot(cumulative_revenue_b['date'], cumulative_revenue_b['orders'])  \n",
    "# зададим описание графика\n",
    "plt.xlabel('Дата')\n",
    "plt.ylabel('Кол-во заказов') \n",
    "plt.title('Кумулятивное кол-во заказов по дням в группе B')\n",
    "plt.show() "
   ]
  },
  {
   "cell_type": "code",
   "execution_count": 21,
   "metadata": {},
   "outputs": [
    {
     "data": {
      "image/png": "[encoded data removed]",
      "text/plain": [
       "<Figure size 864x576 with 1 Axes>"
      ]
     },
     "metadata": {
      "needs_background": "light"
     },
     "output_type": "display_data"
    }
   ],
   "source": [
    "#зададим размеры графика \n",
    "plt.figure(figsize=(12,8)) \n",
    "plt.plot(cumulative_revenue_b['date'], cumulative_revenue_b['revenue'])  \n",
    "# зададим описание графика\n",
    "plt.xlabel('Дата')\n",
    "plt.ylabel('Выручка') \n",
    "plt.title('Кумулятивная выручка в группе B')\n",
    "plt.show() "
   ]
  },
  {
   "cell_type": "markdown",
   "metadata": {},
   "source": [
    "Рост заметен на графике с выручкой, можем сделать вывод о том, что в группу попал анамально большой заказ"
   ]
  },
  {
   "cell_type": "markdown",
   "metadata": {},
   "source": [
    "### Построим график кумулятивного среднего чека по группам. "
   ]
  },
  {
   "cell_type": "code",
   "execution_count": 22,
   "metadata": {},
   "outputs": [
    {
     "data": {
      "image/png": "[encoded data removed]",
      "text/plain": [
       "<Figure size 864x576 with 1 Axes>"
      ]
     },
     "metadata": {
      "needs_background": "light"
     },
     "output_type": "display_data"
    }
   ],
   "source": [
    "#зададим размеры графика  \n",
    "plt.figure(figsize=(12,8))   \n",
    "\n",
    "#построим графики, что бы получить средний чек, разделим выручку на число заказов\n",
    "plt.plot(cumulative_revenue_a['date'], cumulative_revenue_a['revenue']/cumulative_revenue_a['orders'], label='A')\n",
    "plt.plot(cumulative_revenue_b['date'], cumulative_revenue_b['revenue']/cumulative_revenue_b['orders'], label='B')\n",
    "plt.legend()  \n",
    "\n",
    "# зададим описание графика\n",
    "plt.legend(['Группа А', 'Группа B']) \n",
    "plt.xlabel('Дата')\n",
    "plt.ylabel('Средний чек') \n",
    "plt.title('Кумулятивный средний чек по дням и группам A/B-тестирования')\n",
    "plt.show()  "
   ]
  },
  {
   "cell_type": "markdown",
   "metadata": {},
   "source": [
    "На графиках видим:  \n",
    "в первой половине теста графики ведут себя не стабильно, есть как сильные росты, так и падения  \n",
    "на графике среднего чека анамальное значения для группе B в период с 08.17 по 08.21 уже более явное  \n",
    "к коцу периода коммулятивный средний чек группы B, выше, чем у А, но стоит учесть, что были анамальные значения  \n",
    "к концу периода у группы А есть тенденция к росту, а у B к снижению  "
   ]
  },
  {
   "cell_type": "markdown",
   "metadata": {},
   "source": [
    "### Построим график относительного изменения кумулятивного среднего чека группы B к группе A."
   ]
  },
  {
   "cell_type": "code",
   "execution_count": 23,
   "metadata": {},
   "outputs": [
    {
     "data": {
      "text/html": [
       "<div>\n",
       "<style scoped>\n",
       "    .dataframe tbody tr th:only-of-type {\n",
       "        vertical-align: middle;\n",
       "    }\n",
       "\n",
       "    .dataframe tbody tr th {\n",
       "        vertical-align: top;\n",
       "    }\n",
       "\n",
       "    .dataframe thead th {\n",
       "        text-align: right;\n",
       "    }\n",
       "</style>\n",
       "<table border=\"1\" class=\"dataframe\">\n",
       "  <thead>\n",
       "    <tr style=\"text-align: right;\">\n",
       "      <th></th>\n",
       "      <th>date</th>\n",
       "      <th>revenue_a</th>\n",
       "      <th>orders_a</th>\n",
       "      <th>revenue_b</th>\n",
       "      <th>orders_b</th>\n",
       "    </tr>\n",
       "  </thead>\n",
       "  <tbody>\n",
       "    <tr>\n",
       "      <th>0</th>\n",
       "      <td>2019-08-01</td>\n",
       "      <td>148579</td>\n",
       "      <td>24</td>\n",
       "      <td>101217</td>\n",
       "      <td>21</td>\n",
       "    </tr>\n",
       "    <tr>\n",
       "      <th>1</th>\n",
       "      <td>2019-08-02</td>\n",
       "      <td>242401</td>\n",
       "      <td>44</td>\n",
       "      <td>266748</td>\n",
       "      <td>45</td>\n",
       "    </tr>\n",
       "    <tr>\n",
       "      <th>2</th>\n",
       "      <td>2019-08-03</td>\n",
       "      <td>354874</td>\n",
       "      <td>68</td>\n",
       "      <td>380996</td>\n",
       "      <td>61</td>\n",
       "    </tr>\n",
       "    <tr>\n",
       "      <th>3</th>\n",
       "      <td>2019-08-04</td>\n",
       "      <td>425699</td>\n",
       "      <td>84</td>\n",
       "      <td>489567</td>\n",
       "      <td>78</td>\n",
       "    </tr>\n",
       "    <tr>\n",
       "      <th>4</th>\n",
       "      <td>2019-08-05</td>\n",
       "      <td>549917</td>\n",
       "      <td>109</td>\n",
       "      <td>581995</td>\n",
       "      <td>101</td>\n",
       "    </tr>\n",
       "  </tbody>\n",
       "</table>\n",
       "</div>"
      ],
      "text/plain": [
       "        date  revenue_a  orders_a  revenue_b  orders_b\n",
       "0 2019-08-01     148579        24     101217        21\n",
       "1 2019-08-02     242401        44     266748        45\n",
       "2 2019-08-03     354874        68     380996        61\n",
       "3 2019-08-04     425699        84     489567        78\n",
       "4 2019-08-05     549917       109     581995       101"
      ]
     },
     "execution_count": 23,
     "metadata": {},
     "output_type": "execute_result"
    }
   ],
   "source": [
    "#объеденим по столбцу с датой и зададим суффиксы для каждый группы \n",
    "merged_revenue = cumulative_revenue_a.merge(\n",
    "    cumulative_revenue_b, \n",
    "    left_on='date', right_on='date', \n",
    "    how='left',\n",
    "    suffixes=['_a', '_b']\n",
    ")\n",
    "#выведем получившуюся таблицу\n",
    "merged_revenue.head()"
   ]
  },
  {
   "cell_type": "code",
   "execution_count": 24,
   "metadata": {},
   "outputs": [
    {
     "data": {
      "image/png": "[encoded data removed]",
      "text/plain": [
       "<Figure size 864x576 with 1 Axes>"
      ]
     },
     "metadata": {
      "needs_background": "light"
     },
     "output_type": "display_data"
    }
   ],
   "source": [
    "# зададим размеры графика  \n",
    "plt.figure(figsize=(12,8))   \n",
    "# cтроим отношение средних чеков\n",
    "plt.plot(\n",
    "    merged_revenue['date'],\n",
    "    (merged_revenue['revenue_b']/\n",
    "     merged_revenue['orders_b'])/\n",
    "    (merged_revenue['revenue_a']/\n",
    "     merged_revenue['orders_a'])\n",
    "    -1\n",
    ")\n",
    "\n",
    "# добавляем ось X\n",
    "plt.axhline(y=0, color='black', linestyle='--')  \n",
    "# зададим описание графика \n",
    "plt.xlabel('Дата')\n",
    "plt.ylabel('Отношение') \n",
    "plt.title('Относительное изменение кумулятивного среднего чека группы B к группе A')\n",
    "plt.show()   \n"
   ]
  },
  {
   "cell_type": "markdown",
   "metadata": {},
   "source": [
    "На графике видим резкие скачки, это может значит, что именно в пиковый дни на графике, были сделаны анамально дорогие заказы."
   ]
  },
  {
   "cell_type": "markdown",
   "metadata": {},
   "source": [
    "### Построим график кумулятивного среднего количества заказов на посетителя по группам. "
   ]
  },
  {
   "cell_type": "code",
   "execution_count": 25,
   "metadata": {},
   "outputs": [
    {
     "data": {
      "image/png": "[encoded data removed]",
      "text/plain": [
       "<Figure size 864x576 with 1 Axes>"
      ]
     },
     "metadata": {
      "needs_background": "light"
     },
     "output_type": "display_data"
    }
   ],
   "source": [
    "# считаем кумулятивное среднее количество заказов на посетителя\n",
    "cumulative_df['avg_orders'] = cumulative_df['orders']/cumulative_df['visitors']\n",
    "\n",
    "# отделяем данные по группе A\n",
    "cumulative_df_a = cumulative_df[cumulative_df['group']=='A']\n",
    "\n",
    "# отделяем данные по группе B\n",
    "cumulative_df_b = cumulative_df[cumulative_df['group']=='B']\n",
    "\n",
    "# зададим размеры графика  \n",
    "plt.figure(figsize=(12,8))   \n",
    "\n",
    "# строим графики\n",
    "plt.plot(cumulative_df_a['date'], cumulative_df_a['avg_orders'], label='A')\n",
    "plt.plot(cumulative_df_b['date'], cumulative_df_b['avg_orders'], label='B')\n",
    "\n",
    "\n",
    "# зададим описание графика\n",
    "plt.legend(['Группа А', 'Группа B']) \n",
    "# задаем масштаб осей\n",
    "plt.xlabel('Дата')\n",
    "plt.ylabel('Среднее количество заказов на посетителя') \n",
    "plt.title('Кумулятивное среднее количество заказов на посетителя по группам')\n",
    "plt.show()  \n"
   ]
  },
  {
   "cell_type": "markdown",
   "metadata": {},
   "source": [
    "На грфике видим, что в первые дни конверся у группы А была выше, чем у В, но спустя 6 дней со времени запуска теста, это поменялось:  \n",
    "\n",
    "для А конверсия держалась на уровне от 0.029 до 0.031,  \n",
    "для B от 0.034 до 0.036  \n",
    "Предварительно гипотеза подтверждается, с новововведениями на сайте - конверсия растёт  "
   ]
  },
  {
   "cell_type": "markdown",
   "metadata": {},
   "source": [
    "### Построим график относительного изменения кумулятивного среднего количества заказов на посетителя группы B к группе A. "
   ]
  },
  {
   "cell_type": "code",
   "execution_count": 26,
   "metadata": {},
   "outputs": [
    {
     "data": {
      "text/html": [
       "<div>\n",
       "<style scoped>\n",
       "    .dataframe tbody tr th:only-of-type {\n",
       "        vertical-align: middle;\n",
       "    }\n",
       "\n",
       "    .dataframe tbody tr th {\n",
       "        vertical-align: top;\n",
       "    }\n",
       "\n",
       "    .dataframe thead th {\n",
       "        text-align: right;\n",
       "    }\n",
       "</style>\n",
       "<table border=\"1\" class=\"dataframe\">\n",
       "  <thead>\n",
       "    <tr style=\"text-align: right;\">\n",
       "      <th></th>\n",
       "      <th>date</th>\n",
       "      <th>avg_orders_a</th>\n",
       "      <th>avg_orders_b</th>\n",
       "    </tr>\n",
       "  </thead>\n",
       "  <tbody>\n",
       "    <tr>\n",
       "      <th>0</th>\n",
       "      <td>2019-08-01</td>\n",
       "      <td>0.033380</td>\n",
       "      <td>0.029453</td>\n",
       "    </tr>\n",
       "    <tr>\n",
       "      <th>1</th>\n",
       "      <td>2019-08-02</td>\n",
       "      <td>0.032885</td>\n",
       "      <td>0.034776</td>\n",
       "    </tr>\n",
       "    <tr>\n",
       "      <th>2</th>\n",
       "      <td>2019-08-03</td>\n",
       "      <td>0.036856</td>\n",
       "      <td>0.033833</td>\n",
       "    </tr>\n",
       "    <tr>\n",
       "      <th>3</th>\n",
       "      <td>2019-08-04</td>\n",
       "      <td>0.032787</td>\n",
       "      <td>0.030315</td>\n",
       "    </tr>\n",
       "    <tr>\n",
       "      <th>4</th>\n",
       "      <td>2019-08-05</td>\n",
       "      <td>0.032851</td>\n",
       "      <td>0.030793</td>\n",
       "    </tr>\n",
       "  </tbody>\n",
       "</table>\n",
       "</div>"
      ],
      "text/plain": [
       "        date  avg_orders_a  avg_orders_b\n",
       "0 2019-08-01      0.033380      0.029453\n",
       "1 2019-08-02      0.032885      0.034776\n",
       "2 2019-08-03      0.036856      0.033833\n",
       "3 2019-08-04      0.032787      0.030315\n",
       "4 2019-08-05      0.032851      0.030793"
      ]
     },
     "execution_count": 26,
     "metadata": {},
     "output_type": "execute_result"
    }
   ],
   "source": [
    "#объеденим по столбцу с датой и зададим суффиксы для каждый группы  \n",
    "merged_сonversion = cumulative_df_a[['date','avg_orders']].merge(\n",
    "    cumulative_df_b[['date','avg_orders']], \n",
    "    left_on='date',\n",
    "    right_on='date', \n",
    "    how='left',\n",
    "    suffixes=['_a', '_b']\n",
    ")\n",
    "#выведем таблицу \n",
    "merged_сonversion.head()"
   ]
  },
  {
   "cell_type": "code",
   "execution_count": 27,
   "metadata": {},
   "outputs": [
    {
     "data": {
      "image/png": "[encoded data removed]",
      "text/plain": [
       "<Figure size 864x576 with 1 Axes>"
      ]
     },
     "metadata": {
      "needs_background": "light"
     },
     "output_type": "display_data"
    }
   ],
   "source": [
    "# зададим размеры графика  \n",
    "plt.figure(figsize=(12,8))   \n",
    "\n",
    "plt.plot(merged_сonversion['date'],\n",
    "         merged_сonversion['avg_orders_b']/\n",
    "         merged_сonversion['avg_orders_a']-1,\n",
    "        )\n",
    "# добавляем ось X c нулевым приростом и отметку в 20% \n",
    "plt.axhline(y=0, color='black', linestyle='--')  \n",
    "plt.axhline(y=0.2, color='grey', linestyle='--') \n",
    "# зададим описание графика \n",
    "plt.ylabel('Конверсия') \n",
    "plt.xlabel('Дата') \n",
    "plt.title('Относительный прирост конверсии группы B относительно группы A') \n",
    "plt.show()\n"
   ]
  },
  {
   "cell_type": "markdown",
   "metadata": {},
   "source": [
    "На графике видим, что в начале теста, конверсия показывала не стабильные результаты, сначала резко поднимаясь, а потом опускалась, но на 6й день теста, получили стабильный прирост, который привысил 20% и установился в пределах от 10 до 15 % к концу периода"
   ]
  },
  {
   "cell_type": "markdown",
   "metadata": {},
   "source": [
    "### Построим точечный график количества заказов по пользователям. "
   ]
  },
  {
   "cell_type": "code",
   "execution_count": 28,
   "metadata": {},
   "outputs": [
    {
     "data": {
      "text/html": [
       "<div>\n",
       "<style scoped>\n",
       "    .dataframe tbody tr th:only-of-type {\n",
       "        vertical-align: middle;\n",
       "    }\n",
       "\n",
       "    .dataframe tbody tr th {\n",
       "        vertical-align: top;\n",
       "    }\n",
       "\n",
       "    .dataframe thead th {\n",
       "        text-align: right;\n",
       "    }\n",
       "</style>\n",
       "<table border=\"1\" class=\"dataframe\">\n",
       "  <thead>\n",
       "    <tr style=\"text-align: right;\">\n",
       "      <th></th>\n",
       "      <th>user_id</th>\n",
       "      <th>orders</th>\n",
       "    </tr>\n",
       "  </thead>\n",
       "  <tbody>\n",
       "    <tr>\n",
       "      <th>1023</th>\n",
       "      <td>4256040402</td>\n",
       "      <td>11</td>\n",
       "    </tr>\n",
       "    <tr>\n",
       "      <th>591</th>\n",
       "      <td>2458001652</td>\n",
       "      <td>11</td>\n",
       "    </tr>\n",
       "    <tr>\n",
       "      <th>569</th>\n",
       "      <td>2378935119</td>\n",
       "      <td>9</td>\n",
       "    </tr>\n",
       "    <tr>\n",
       "      <th>487</th>\n",
       "      <td>2038680547</td>\n",
       "      <td>8</td>\n",
       "    </tr>\n",
       "    <tr>\n",
       "      <th>44</th>\n",
       "      <td>199603092</td>\n",
       "      <td>5</td>\n",
       "    </tr>\n",
       "    <tr>\n",
       "      <th>744</th>\n",
       "      <td>3062433592</td>\n",
       "      <td>5</td>\n",
       "    </tr>\n",
       "    <tr>\n",
       "      <th>55</th>\n",
       "      <td>237748145</td>\n",
       "      <td>5</td>\n",
       "    </tr>\n",
       "    <tr>\n",
       "      <th>917</th>\n",
       "      <td>3803269165</td>\n",
       "      <td>5</td>\n",
       "    </tr>\n",
       "    <tr>\n",
       "      <th>299</th>\n",
       "      <td>1230306981</td>\n",
       "      <td>5</td>\n",
       "    </tr>\n",
       "    <tr>\n",
       "      <th>897</th>\n",
       "      <td>3717692402</td>\n",
       "      <td>5</td>\n",
       "    </tr>\n",
       "  </tbody>\n",
       "</table>\n",
       "</div>"
      ],
      "text/plain": [
       "         user_id  orders\n",
       "1023  4256040402      11\n",
       "591   2458001652      11\n",
       "569   2378935119       9\n",
       "487   2038680547       8\n",
       "44     199603092       5\n",
       "744   3062433592       5\n",
       "55     237748145       5\n",
       "917   3803269165       5\n",
       "299   1230306981       5\n",
       "897   3717692402       5"
      ]
     },
     "execution_count": 28,
     "metadata": {},
     "output_type": "execute_result"
    }
   ],
   "source": [
    "#создадим сводную таблицу с кол-вом закзазов для каждого пользователя \n",
    "orders_count = (\n",
    "    orders.groupby('visitor_id', as_index=False)\n",
    "    .agg({'transaction_id': 'nunique'})\n",
    ")\n",
    "#переименуем столбуы \n",
    "orders_count.columns = ['user_id', 'orders']\n",
    "#выведем таблицу отсортиованную по убыванию кол-ва заказов \n",
    "orders_count.sort_values(by='orders', ascending=False).head(10) "
   ]
  },
  {
   "cell_type": "code",
   "execution_count": 29,
   "metadata": {},
   "outputs": [
    {
     "data": {
      "image/png": "[encoded data removed]",
      "text/plain": [
       "<Figure size 864x576 with 1 Axes>"
      ]
     },
     "metadata": {
      "needs_background": "light"
     },
     "output_type": "display_data"
    }
   ],
   "source": [
    "# серия из чисел от 0 до количества наблюдений в orders_count \n",
    "x_values = pd.Series(range(0, len(orders_count)))\n",
    "# зададим размеры графика  \n",
    "plt.figure(figsize=(12,8)) \n",
    "#построим график \n",
    "plt.scatter(x_values, orders_count['orders'])  \n",
    "# зададим описание графика \n",
    "plt.ylabel('Кол-во заказов') \n",
    "plt.xlabel('Кол-во пользователей') \n",
    "plt.title('Распределение по кол-ву сделанных заказов') \n",
    "plt.show() "
   ]
  },
  {
   "cell_type": "markdown",
   "metadata": {},
   "source": [
    "Больше всего пользователей с 1м или 2мя заказами, остальные довольно редкие, от 3х до 5 ти заказов уже можно посчитать на взгляд по кол-ву точек на графике, но есть уникальные, которые сделали до11 заказов за период.\n",
    "\n",
    "Наверняка, на сайте есть очень активные и постоянные пользователи - это не ошибка в данных, но для создания объективного представления такие значения будут убраны"
   ]
  },
  {
   "cell_type": "markdown",
   "metadata": {},
   "source": [
    "### Посчитаем 95-й и 99-й перцентили количества заказов на пользователя и выберем границу для определения аномальных пользователей."
   ]
  },
  {
   "cell_type": "code",
   "execution_count": 30,
   "metadata": {},
   "outputs": [
    {
     "name": "stdout",
     "output_type": "stream",
     "text": [
      "[2. 4.]\n"
     ]
    }
   ],
   "source": [
    "print(np.percentile(orders_count['orders'], [95, 99])) "
   ]
  },
  {
   "cell_type": "markdown",
   "metadata": {},
   "source": [
    "Получаем следующий результат:  \n",
    "\n",
    "не более 5 % совершили больше 2-ух заказов  \n",
    "не более 1 % совершили больше 4-ёх заказов  "
   ]
  },
  {
   "cell_type": "markdown",
   "metadata": {},
   "source": [
    "Устанавливаем границу по колличеству заказов на пользователя в 3 шт., заключим её в переменную:"
   ]
  },
  {
   "cell_type": "code",
   "execution_count": 31,
   "metadata": {},
   "outputs": [],
   "source": [
    "to_much_orders = np.percentile(orders_count['orders'], 95) + 1"
   ]
  },
  {
   "cell_type": "markdown",
   "metadata": {},
   "source": [
    "### Построим точечный график стоимостей заказов."
   ]
  },
  {
   "cell_type": "code",
   "execution_count": 32,
   "metadata": {},
   "outputs": [
    {
     "data": {
      "text/html": [
       "<div>\n",
       "<style scoped>\n",
       "    .dataframe tbody tr th:only-of-type {\n",
       "        vertical-align: middle;\n",
       "    }\n",
       "\n",
       "    .dataframe tbody tr th {\n",
       "        vertical-align: top;\n",
       "    }\n",
       "\n",
       "    .dataframe thead th {\n",
       "        text-align: right;\n",
       "    }\n",
       "</style>\n",
       "<table border=\"1\" class=\"dataframe\">\n",
       "  <thead>\n",
       "    <tr style=\"text-align: right;\">\n",
       "      <th></th>\n",
       "      <th>visitor_id</th>\n",
       "      <th>revenue</th>\n",
       "    </tr>\n",
       "  </thead>\n",
       "  <tbody>\n",
       "    <tr>\n",
       "      <th>425</th>\n",
       "      <td>1920142716</td>\n",
       "      <td>1294500</td>\n",
       "    </tr>\n",
       "    <tr>\n",
       "      <th>1196</th>\n",
       "      <td>2108080724</td>\n",
       "      <td>202740</td>\n",
       "    </tr>\n",
       "    <tr>\n",
       "      <th>858</th>\n",
       "      <td>1316129916</td>\n",
       "      <td>93940</td>\n",
       "    </tr>\n",
       "    <tr>\n",
       "      <th>1136</th>\n",
       "      <td>1307669133</td>\n",
       "      <td>92550</td>\n",
       "    </tr>\n",
       "    <tr>\n",
       "      <th>744</th>\n",
       "      <td>888512513</td>\n",
       "      <td>86620</td>\n",
       "    </tr>\n",
       "    <tr>\n",
       "      <th>682</th>\n",
       "      <td>4266935830</td>\n",
       "      <td>78990</td>\n",
       "    </tr>\n",
       "    <tr>\n",
       "      <th>662</th>\n",
       "      <td>4266935830</td>\n",
       "      <td>78990</td>\n",
       "    </tr>\n",
       "    <tr>\n",
       "      <th>743</th>\n",
       "      <td>4133034833</td>\n",
       "      <td>67990</td>\n",
       "    </tr>\n",
       "    <tr>\n",
       "      <th>1103</th>\n",
       "      <td>1164614297</td>\n",
       "      <td>66350</td>\n",
       "    </tr>\n",
       "    <tr>\n",
       "      <th>1099</th>\n",
       "      <td>148427295</td>\n",
       "      <td>65710</td>\n",
       "    </tr>\n",
       "  </tbody>\n",
       "</table>\n",
       "</div>"
      ],
      "text/plain": [
       "      visitor_id  revenue\n",
       "425   1920142716  1294500\n",
       "1196  2108080724   202740\n",
       "858   1316129916    93940\n",
       "1136  1307669133    92550\n",
       "744    888512513    86620\n",
       "682   4266935830    78990\n",
       "662   4266935830    78990\n",
       "743   4133034833    67990\n",
       "1103  1164614297    66350\n",
       "1099   148427295    65710"
      ]
     },
     "execution_count": 32,
     "metadata": {},
     "output_type": "execute_result"
    }
   ],
   "source": [
    "orders[['visitor_id', 'revenue']].sort_values(by='revenue', ascending=False).head(10) "
   ]
  },
  {
   "cell_type": "code",
   "execution_count": 33,
   "metadata": {},
   "outputs": [
    {
     "data": {
      "image/png": "[encoded data removed]",
      "text/plain": [
       "<Figure size 864x576 with 1 Axes>"
      ]
     },
     "metadata": {
      "needs_background": "light"
     },
     "output_type": "display_data"
    }
   ],
   "source": [
    "# серия из чисел от 0 до количества наблюдений в orders \n",
    "x_values = pd.Series(range(0, len(orders['revenue'])))\n",
    "# зададим размеры графика  \n",
    "plt.figure(figsize=(12,8)) \n",
    "#построим график \n",
    "scattter_plot = plt.scatter(x_values, orders['revenue'])  \n",
    "# зададим описание графика \n",
    "plt.ylabel('Стоимость заказов') \n",
    "plt.xlabel('Кол-во пользователей') \n",
    "plt.title('Распределение по сумме сделанных заказов') \n",
    "plt.show() "
   ]
  },
  {
   "cell_type": "markdown",
   "metadata": {},
   "source": [
    "Можно уже заметить, что максимальное значения сильно превосходит остальные. Заказы на 200 тысяч и миллинон - очевидно будут сильно выбиваться. Зададим лимит в 100 000, что бы подробнее изучить распредление наиболее частых заказов:"
   ]
  },
  {
   "cell_type": "code",
   "execution_count": 34,
   "metadata": {},
   "outputs": [
    {
     "data": {
      "image/png": "[encoded data removed]",
      "text/plain": [
       "<Figure size 864x576 with 1 Axes>"
      ]
     },
     "metadata": {
      "needs_background": "light"
     },
     "output_type": "display_data"
    }
   ],
   "source": [
    "# серия из чисел от 0 до количества наблюдений в orders \n",
    "x_values = pd.Series(range(0, len(orders['revenue'])))\n",
    "# зададим размеры графика  \n",
    "plt.figure(figsize=(12,8))\n",
    "#построим график \n",
    "plt.scatter(x_values, orders['revenue'])\n",
    "#срежем очевидно анамальные заказы \n",
    "plt.ylim(0, 100000) \n",
    "# зададим описание графика \n",
    "plt.ylabel('Стоимость заказов') \n",
    "plt.xlabel('Кол-во пользователей') \n",
    "plt.title('Распределение по сумме сделанных заказов') \n",
    "plt.show()  \n"
   ]
  },
  {
   "cell_type": "markdown",
   "metadata": {},
   "source": [
    "Видим, что основные значения лежат в пределах до приблизтельно 20000, по графику всё ещё сложно оценить границу анамально большого заказа, воспользуемся подсчётом процентелией"
   ]
  },
  {
   "cell_type": "markdown",
   "metadata": {},
   "source": [
    "### Посчитаем 95-й и 99-й перцентили стоимости заказов и выберем границу для определения аномальных заказов."
   ]
  },
  {
   "cell_type": "code",
   "execution_count": 35,
   "metadata": {},
   "outputs": [
    {
     "name": "stdout",
     "output_type": "stream",
     "text": [
      "[28000.  58233.2]\n"
     ]
    }
   ],
   "source": [
    "print(np.percentile(orders['revenue'], [95, 99]))  "
   ]
  },
  {
   "cell_type": "markdown",
   "metadata": {},
   "source": [
    "Получаем следующий результат:  \n",
    "\n",
    "не более 5 % заказов стомостью более 28000 рублей  \n",
    "не более 1 % заказов стомостью более 58000 рублей  "
   ]
  },
  {
   "cell_type": "markdown",
   "metadata": {},
   "source": [
    "Устанавливаем границу по сумме заказа в 30000 рублей, добавим её в переменную:"
   ]
  },
  {
   "cell_type": "code",
   "execution_count": 36,
   "metadata": {},
   "outputs": [],
   "source": [
    "to_expensive_order  = np.percentile(orders['revenue'], 95)"
   ]
  },
  {
   "cell_type": "markdown",
   "metadata": {},
   "source": [
    "### Посчитаем статистическую значимость различий в среднем количестве заказов на посетителя между группами по «сырым» данным."
   ]
  },
  {
   "cell_type": "code",
   "execution_count": 37,
   "metadata": {},
   "outputs": [
    {
     "data": {
      "text/html": [
       "<div>\n",
       "<style scoped>\n",
       "    .dataframe tbody tr th:only-of-type {\n",
       "        vertical-align: middle;\n",
       "    }\n",
       "\n",
       "    .dataframe tbody tr th {\n",
       "        vertical-align: top;\n",
       "    }\n",
       "\n",
       "    .dataframe thead th {\n",
       "        text-align: right;\n",
       "    }\n",
       "</style>\n",
       "<table border=\"1\" class=\"dataframe\">\n",
       "  <thead>\n",
       "    <tr style=\"text-align: right;\">\n",
       "      <th></th>\n",
       "      <th>visitors_id</th>\n",
       "      <th>orders</th>\n",
       "    </tr>\n",
       "  </thead>\n",
       "  <tbody>\n",
       "    <tr>\n",
       "      <th>0</th>\n",
       "      <td>8300375</td>\n",
       "      <td>1</td>\n",
       "    </tr>\n",
       "    <tr>\n",
       "      <th>1</th>\n",
       "      <td>11685486</td>\n",
       "      <td>1</td>\n",
       "    </tr>\n",
       "    <tr>\n",
       "      <th>2</th>\n",
       "      <td>54447517</td>\n",
       "      <td>1</td>\n",
       "    </tr>\n",
       "    <tr>\n",
       "      <th>3</th>\n",
       "      <td>66685450</td>\n",
       "      <td>1</td>\n",
       "    </tr>\n",
       "    <tr>\n",
       "      <th>4</th>\n",
       "      <td>78758296</td>\n",
       "      <td>1</td>\n",
       "    </tr>\n",
       "  </tbody>\n",
       "</table>\n",
       "</div>"
      ],
      "text/plain": [
       "   visitors_id  orders\n",
       "0      8300375       1\n",
       "1     11685486       1\n",
       "2     54447517       1\n",
       "3     66685450       1\n",
       "4     78758296       1"
      ]
     },
     "metadata": {},
     "output_type": "display_data"
    },
    {
     "data": {
      "text/html": [
       "<div>\n",
       "<style scoped>\n",
       "    .dataframe tbody tr th:only-of-type {\n",
       "        vertical-align: middle;\n",
       "    }\n",
       "\n",
       "    .dataframe tbody tr th {\n",
       "        vertical-align: top;\n",
       "    }\n",
       "\n",
       "    .dataframe thead th {\n",
       "        text-align: right;\n",
       "    }\n",
       "</style>\n",
       "<table border=\"1\" class=\"dataframe\">\n",
       "  <thead>\n",
       "    <tr style=\"text-align: right;\">\n",
       "      <th></th>\n",
       "      <th>visitors_id</th>\n",
       "      <th>orders</th>\n",
       "    </tr>\n",
       "  </thead>\n",
       "  <tbody>\n",
       "    <tr>\n",
       "      <th>0</th>\n",
       "      <td>5114589</td>\n",
       "      <td>1</td>\n",
       "    </tr>\n",
       "    <tr>\n",
       "      <th>1</th>\n",
       "      <td>6958315</td>\n",
       "      <td>1</td>\n",
       "    </tr>\n",
       "    <tr>\n",
       "      <th>2</th>\n",
       "      <td>8300375</td>\n",
       "      <td>1</td>\n",
       "    </tr>\n",
       "    <tr>\n",
       "      <th>3</th>\n",
       "      <td>39475350</td>\n",
       "      <td>1</td>\n",
       "    </tr>\n",
       "    <tr>\n",
       "      <th>4</th>\n",
       "      <td>47206413</td>\n",
       "      <td>1</td>\n",
       "    </tr>\n",
       "  </tbody>\n",
       "</table>\n",
       "</div>"
      ],
      "text/plain": [
       "   visitors_id  orders\n",
       "0      5114589       1\n",
       "1      6958315       1\n",
       "2      8300375       1\n",
       "3     39475350       1\n",
       "4     47206413       1"
      ]
     },
     "metadata": {},
     "output_type": "display_data"
    }
   ],
   "source": [
    "# таблицы с данными по заказам на каждого пользователя\n",
    "orders_by_users_a = orders[orders['group']=='A'].groupby('visitor_id')['transaction_id'].nunique().reset_index()\n",
    "orders_by_users_a.columns=['visitors_id','orders']\n",
    "\n",
    "orders_by_users_b = orders[orders['group']=='B'].groupby('visitor_id')['transaction_id'].nunique().reset_index()\n",
    "orders_by_users_b.columns=['visitors_id','orders'] \n",
    "\n",
    "display(orders_by_users_a.head()) \n",
    "display(orders_by_users_b.head())  "
   ]
  },
  {
   "cell_type": "code",
   "execution_count": 38,
   "metadata": {},
   "outputs": [],
   "source": [
    "sample_a = pd.concat(\n",
    "    [\n",
    "        orders_by_users_a['orders'],\n",
    "        pd.Series(0, \n",
    "                  index=np.arange\n",
    "                  (visitors[visitors['group']=='A']['visitors'].sum() - len(orders_by_users_a['orders'])\n",
    "                  ),\n",
    "                  name='orders'\n",
    "                 )\n",
    "    ],\n",
    "    axis=0)\n",
    "sample_b = pd.concat(\n",
    "    [\n",
    "        orders_by_users_b['orders'],\n",
    "        pd.Series\n",
    "        (0,\n",
    "         index=np.arange(\n",
    "             visitors[visitors['group']=='B']['visitors'].sum() - len(orders_by_users_b['orders'])\n",
    "         ),\n",
    "         name='orders'\n",
    "        )\n",
    "    ],\n",
    "    axis=0)"
   ]
  },
  {
   "cell_type": "markdown",
   "metadata": {},
   "source": [
    "Данные для проведения теста Манна-Уитни готовы, сформируем нулевую и альетрнативную гипотезы:  \n",
    "\n",
    "Нулевая гипотеза: Различий в среднем количестве заказов между группами нет  \n",
    "\n",
    "Альтернативная гипотеза: Различия в среднем количестве заказов между группами есть  \n",
    "\n",
    "Коэффициент альфа: 0.05  "
   ]
  },
  {
   "cell_type": "code",
   "execution_count": 39,
   "metadata": {},
   "outputs": [
    {
     "name": "stdout",
     "output_type": "stream",
     "text": [
      "Значение p-value : 0.016792355056752608\n",
      "Отвергаем нулевую гипотезу\n",
      "Среднее количество группы А: 3.0%\n",
      "Среднее количество группы B: 3.4%\n",
      "Отношение средних В к А: 0.138\n"
     ]
    }
   ],
   "source": [
    "result_1 = stats.mannwhitneyu(sample_a, sample_b)[1] \n",
    "#задаим значение aplha\n",
    "alpha = 0.05\n",
    "#введем значение p-value\n",
    "print(f'Значение p-value : {result_1}')\n",
    "# условный оператор с выводом строки с ответом\n",
    "if result_1 < alpha:\n",
    "    print(\"Отвергаем нулевую гипотезу\")\n",
    "else:\n",
    "    print(\"Не получилось отвергнуть нулевую гипотезу\")  \n",
    "print('Среднее количество группы А: {:.1%}'.format(sample_a.mean()))\n",
    "print('Среднее количество группы B: {:.1%}'.format(sample_b.mean()))  \n",
    "print('Отношение средних В к А: {0:.3f}'.format(sample_b.mean()/sample_a.mean()-1))   "
   ]
  },
  {
   "cell_type": "markdown",
   "metadata": {},
   "source": [
    "P-value меньше заданного значения alpha - отвергаем нулевую гипотезу, следовательно верно утвеждение о том, что различия в среднем количестве заказов есть.\n",
    "\n",
    "Отношений конверсий группы А к В 0.138, что можно интропритировать как относительный прирост в ~13%, что является не плохим результатом, на следующих этапах посмотрим какое значения будут иметь данные без аномалий"
   ]
  },
  {
   "cell_type": "markdown",
   "metadata": {},
   "source": [
    " ### Посчитаем статистическую значимость различий в среднем чеке заказа между группами по «сырым» данным."
   ]
  },
  {
   "cell_type": "markdown",
   "metadata": {},
   "source": [
    "Сформулируем гипотезы:  \n",
    "\n",
    "Нулевая гипотеза: Различий в средних чеках между группами нет  \n",
    "\n",
    "Альтернативная гипотеза: Различия в средних чеках между группами есть  \n",
    "\n",
    "Коэффициент альфа: 0.05  "
   ]
  },
  {
   "cell_type": "code",
   "execution_count": 40,
   "metadata": {},
   "outputs": [
    {
     "name": "stdout",
     "output_type": "stream",
     "text": [
      "Значение p-value : 0.7292909855432458\n",
      "Не получилось отвергнуть нулевую гипотезу\n",
      "Средний чек группы А: 7333.58\n",
      "Средний чек группы B: 9230.88\n",
      "Отношение между чеками A и B: 1.26\n"
     ]
    }
   ],
   "source": [
    "result_2 = stats.mannwhitneyu(orders[orders['group']=='A']['revenue'], orders[orders['group']=='B']['revenue'])[1]  \n",
    "#введем значение p-value\n",
    "print(f'Значение p-value : {result_2}')\n",
    "# условный оператор с выводом строки с ответом\n",
    "if result_2 < alpha:\n",
    "    print(\"Отвергаем нулевую гипотезу\")\n",
    "else:\n",
    "    print(\"Не получилось отвергнуть нулевую гипотезу\")  \n",
    "#выведем основные показатели\n",
    "print('Средний чек группы А: {:.2f}'.format(orders[orders['group']=='A']['revenue'].mean()))\n",
    "print('Средний чек группы B: {:.2f}'.format(orders[orders['group']=='B']['revenue'].mean())) \n",
    "print('Отношение между чеками A и B: {:.2f}'.format(orders[orders['group']=='B']['revenue'].mean() / orders[orders['group']=='A']['revenue'].mean()))  "
   ]
  },
  {
   "cell_type": "markdown",
   "metadata": {},
   "source": [
    "P-value значительно больше alpha, значит принимаем нулевую гипотезу - статичстичкой значимости различий в средних чеках нет, несмотря на разницу общего среднего значения по группам, которая составила в абсолютных значений 26%"
   ]
  },
  {
   "cell_type": "markdown",
   "metadata": {},
   "source": [
    "### Посчитаем статистическую значимость различий в среднем количестве заказов на посетителя между группами по «очищенным» данным. "
   ]
  },
  {
   "cell_type": "code",
   "execution_count": 41,
   "metadata": {},
   "outputs": [
    {
     "name": "stdout",
     "output_type": "stream",
     "text": [
      "1099    148427295\n",
      "18      199603092\n",
      "928     204675465\n",
      "23      237748145\n",
      "684     358944393\n",
      "dtype: int64\n",
      " \n",
      "Кол-во анамальных пользователей:  63\n"
     ]
    }
   ],
   "source": [
    "# собираем пользователей с большим кол-вом заказов \n",
    "many_orders = pd.concat(\n",
    "    [\n",
    "        orders_by_users_a[orders_by_users_a['orders'] > to_much_orders]['visitors_id'],\n",
    "        orders_by_users_b[orders_by_users_b['orders'] > to_much_orders]['visitors_id'],\n",
    "    ],\n",
    "    axis=0,\n",
    ")\n",
    "\n",
    "# собираем пользователей с слишком дорогими заказами\n",
    "expensive_orders = orders[orders['revenue'] > to_expensive_order]['visitor_id']\n",
    "\n",
    "# объединяем всё в один датафрейм \n",
    "abnormal_users = (\n",
    "    pd.concat([many_orders, expensive_orders], axis=0)\n",
    "    .drop_duplicates()\n",
    "    .sort_values()\n",
    ")\n",
    "print(abnormal_users.head(5))\n",
    "print(' ')\n",
    "print('Кол-во анамальных пользователей: ', abnormal_users.shape[0])"
   ]
  },
  {
   "cell_type": "code",
   "execution_count": 42,
   "metadata": {},
   "outputs": [],
   "source": [
    "#отфильтруем данные в группе А \n",
    "sample_a_filtered = pd.concat(\n",
    "    [\n",
    "        orders_by_users_a[\n",
    "            np.logical_not(orders_by_users_a['visitors_id'].isin(abnormal_users))\n",
    "        ]['orders'],\n",
    "        pd.Series(\n",
    "            0,\n",
    "            index=np.arange(\n",
    "                visitors[visitors['group']=='A']['visitors'].sum() - len(orders_by_users_a['orders'])\n",
    "            ),\n",
    "            name='orders',\n",
    "        ),\n",
    "    ],\n",
    "    axis=0,\n",
    ")\n",
    "\n",
    "#отфильтруем данные в группе В\n",
    "sample_b_filtered = pd.concat(\n",
    "    [\n",
    "        orders_by_users_b[\n",
    "            np.logical_not(orders_by_users_b['visitors_id'].isin(abnormal_users))\n",
    "        ]['orders'],\n",
    "        pd.Series(\n",
    "            0,\n",
    "            index=np.arange(\n",
    "                visitors[visitors['group']=='B']['visitors'].sum() - len(orders_by_users_b['orders'])\n",
    "            ),\n",
    "            name='orders',\n",
    "        ),\n",
    "    ],\n",
    "    axis=0,\n",
    ")  "
   ]
  },
  {
   "cell_type": "markdown",
   "metadata": {},
   "source": [
    "Сформулируем гипотезы:\n",
    "\n",
    "Нулевая гипотеза: Различий в среднем количестве заказов между группами нет\n",
    "\n",
    "Альтернативная гипотеза: Различия в среднем количестве заказов между группами есть\n",
    "\n",
    "Коэффициент альфа: 0.05"
   ]
  },
  {
   "cell_type": "code",
   "execution_count": 43,
   "metadata": {},
   "outputs": [
    {
     "name": "stdout",
     "output_type": "stream",
     "text": [
      "Значение p-value : 0.017942888591552505\n",
      "Отвергаем нулевую гипотезу\n",
      "Среднее количество (очищенная) группы А: 2.7%\n",
      "Среднее количество (очищенная) группы B: 3.0%\n",
      "Отношение заказов В к А, по очищенным данным: 0.148\n"
     ]
    }
   ],
   "source": [
    "result_3 = stats.mannwhitneyu(sample_a_filtered, sample_b_filtered)[1] \n",
    "#ведем значение pvalue\n",
    "print(f'Значение p-value : {result_3}') \n",
    "# условный оператор с выводом строки с ответом\n",
    "if result_3 < alpha:\n",
    "    print(\"Отвергаем нулевую гипотезу\")\n",
    "else:\n",
    "    print(\"Не получилось отвергнуть нулевую гипотезу\") \n",
    "print('Среднее количество (очищенная) группы А: {:.1%}'.format(sample_a_filtered.mean()))\n",
    "print('Среднее количество (очищенная) группы B: {:.1%}'.format(sample_b_filtered.mean())) \n",
    "print('Отношение заказов В к А, по очищенным данным: {0:.3f}'.format(sample_b_filtered.mean()/sample_a_filtered.mean()-1))  "
   ]
  },
  {
   "cell_type": "markdown",
   "metadata": {},
   "source": [
    "Для \"очищенных\" данных также справедливо утверждение о том, что среднеее количество заказов разные и нулевая гипотеза неверна. Само значения среднего количества заказов данных изменилось в меньшую сторону для обоих групп, лидируют по-прежнему пользователи из B, а средний прирост оказался выше на почти 2%"
   ]
  },
  {
   "cell_type": "markdown",
   "metadata": {},
   "source": [
    "### Посчитаем статистическую значимость различий в среднем чеке заказа между группами по «очищенным» данным. "
   ]
  },
  {
   "cell_type": "markdown",
   "metadata": {},
   "source": [
    "Сформулируем гипотезы:\n",
    "\n",
    "Нулевая гипотеза: Различий в средних чеках между группами нет\n",
    "\n",
    "Альтернативная гипотеза: Различия в средних чеках между группами есть\n",
    "\n",
    "Коэффициент альфа: 0.05"
   ]
  },
  {
   "cell_type": "code",
   "execution_count": 44,
   "metadata": {},
   "outputs": [
    {
     "name": "stdout",
     "output_type": "stream",
     "text": [
      "Значение p-value : 0.9765292921254219\n",
      "Не получилось отвергнуть нулевую гипотезу\n",
      "Средний чек группы А (очищенная): 5104.9\n",
      "Средний чек группы B (очищенная): 5192.1\n",
      "Отношение средних чеков В к А, по очищенным данным: 0.98\n"
     ]
    }
   ],
   "source": [
    "result4 = stats.mannwhitneyu(\n",
    "    orders[np.logical_and(\n",
    "        orders['group']=='A',\n",
    "        np.logical_not(orders['visitor_id'].isin(abnormal_users)))]['revenue'],\n",
    "    orders[np.logical_and(\n",
    "        orders['group']=='B',\n",
    "        np.logical_not(orders['visitor_id'].isin(abnormal_users)))]['revenue'])[1] \n",
    "\n",
    "#посчитаем среднием значения \n",
    "mean_revenue_b = orders[np.logical_and(orders['group']=='B',\n",
    "                                       np.logical_not(orders['visitor_id'].\n",
    "                                                      isin(abnormal_users)))]['revenue'].mean()\n",
    "mean_revenue_a = orders[np.logical_and(orders['group']=='A',\n",
    "                                       np.logical_not(orders['visitor_id'].\n",
    "                                                      isin(abnormal_users)))]['revenue'].mean() \n",
    "\n",
    "print(f'Значение p-value : {result4}')  \n",
    "# условный оператор с выводом строки с ответом\n",
    "if result4 < alpha:\n",
    "    print(\"Отвергаем нулевую гипотезу\")\n",
    "else:\n",
    "    print(\"Не получилось отвергнуть нулевую гипотезу\")  \n",
    "#выведем всю необходимую информацию\n",
    "print('Средний чек группы А (очищенная): {:.1f}'.format(mean_revenue_b))\n",
    "print('Средний чек группы B (очищенная): {:.1f}'.format(mean_revenue_a))\n",
    "print('Отношение средних чеков В к А, по очищенным данным: {0:.2f}'.format(mean_revenue_b / mean_revenue_a)) "
   ]
  },
  {
   "cell_type": "markdown",
   "metadata": {},
   "source": [
    "Для \"очищенных\" данных статистическая занчимость средних чеков группы B и A, также равны, но стоит заметить, что абсолютные значения практически выровнились, отношение близко к единице"
   ]
  },
  {
   "cell_type": "markdown",
   "metadata": {},
   "source": [
    "### Решение"
   ]
  },
  {
   "cell_type": "markdown",
   "metadata": {},
   "source": [
    "По результатам тестировния средний чек не изменился значительно, но среднее количетсво заказов покупателя выросло. Следует прекратить тестирование."
   ]
  }
 ],
 "metadata": {
  "ExecuteTimeLog": [
   {
    "duration": 1451,
    "start_time": "2024-12-29T11:27:45.058Z"
   },
   {
    "duration": 7,
    "start_time": "2024-12-29T11:30:04.439Z"
   },
   {
    "duration": 76,
    "start_time": "2024-12-29T11:30:05.044Z"
   },
   {
    "duration": 35,
    "start_time": "2024-12-29T11:31:29.536Z"
   },
   {
    "duration": 6,
    "start_time": "2024-12-29T11:32:44.577Z"
   },
   {
    "duration": 81,
    "start_time": "2024-12-29T11:39:14.681Z"
   },
   {
    "duration": 1469,
    "start_time": "2024-12-29T11:41:57.959Z"
   },
   {
    "duration": 3,
    "start_time": "2024-12-29T11:42:13.226Z"
   },
   {
    "duration": 26,
    "start_time": "2024-12-29T11:42:13.587Z"
   },
   {
    "duration": 17,
    "start_time": "2024-12-29T11:42:13.883Z"
   },
   {
    "duration": 6,
    "start_time": "2024-12-29T11:42:14.097Z"
   },
   {
    "duration": 1297,
    "start_time": "2024-12-29T11:42:15.130Z"
   },
   {
    "duration": 16,
    "start_time": "2024-12-29T11:43:05.237Z"
   },
   {
    "duration": 15,
    "start_time": "2024-12-29T11:51:02.729Z"
   },
   {
    "duration": 12,
    "start_time": "2024-12-29T11:52:08.542Z"
   },
   {
    "duration": 15,
    "start_time": "2024-12-29T11:52:37.001Z"
   },
   {
    "duration": 16,
    "start_time": "2024-12-29T11:52:44.413Z"
   },
   {
    "duration": 14,
    "start_time": "2024-12-29T12:09:18.098Z"
   },
   {
    "duration": 13,
    "start_time": "2024-12-29T12:09:18.498Z"
   },
   {
    "duration": 165,
    "start_time": "2024-12-29T12:19:29.819Z"
   },
   {
    "duration": 19,
    "start_time": "2024-12-29T12:19:55.916Z"
   },
   {
    "duration": 20,
    "start_time": "2024-12-29T12:20:41.102Z"
   },
   {
    "duration": 18,
    "start_time": "2024-12-29T12:21:30.853Z"
   },
   {
    "duration": 19,
    "start_time": "2024-12-29T12:21:58.571Z"
   },
   {
    "duration": 6,
    "start_time": "2024-12-29T12:27:39.036Z"
   },
   {
    "duration": 3,
    "start_time": "2024-12-29T12:28:44.519Z"
   },
   {
    "duration": 9,
    "start_time": "2024-12-29T12:29:58.306Z"
   },
   {
    "duration": 20,
    "start_time": "2024-12-29T12:30:30.850Z"
   },
   {
    "duration": 17,
    "start_time": "2024-12-29T12:30:31.335Z"
   },
   {
    "duration": 3,
    "start_time": "2024-12-29T12:31:02.024Z"
   },
   {
    "duration": 26,
    "start_time": "2024-12-29T12:31:02.359Z"
   },
   {
    "duration": 19,
    "start_time": "2024-12-29T12:31:02.523Z"
   },
   {
    "duration": 50,
    "start_time": "2024-12-29T12:31:02.681Z"
   },
   {
    "duration": 19,
    "start_time": "2024-12-29T12:31:02.863Z"
   },
   {
    "duration": 17,
    "start_time": "2024-12-29T12:31:03.079Z"
   },
   {
    "duration": 6,
    "start_time": "2024-12-29T12:31:03.258Z"
   },
   {
    "duration": 3,
    "start_time": "2024-12-29T12:31:03.486Z"
   },
   {
    "duration": 19,
    "start_time": "2024-12-29T12:31:03.712Z"
   },
   {
    "duration": 16,
    "start_time": "2024-12-29T12:31:04.095Z"
   },
   {
    "duration": 11,
    "start_time": "2024-12-29T12:31:05.489Z"
   },
   {
    "duration": 15,
    "start_time": "2024-12-29T12:31:05.708Z"
   },
   {
    "duration": 15,
    "start_time": "2024-12-29T12:31:06.170Z"
   },
   {
    "duration": 16,
    "start_time": "2024-12-29T12:31:07.383Z"
   },
   {
    "duration": 333,
    "start_time": "2024-12-29T12:31:55.372Z"
   },
   {
    "duration": 3,
    "start_time": "2024-12-29T12:33:40.497Z"
   },
   {
    "duration": 7,
    "start_time": "2024-12-29T12:33:41.915Z"
   },
   {
    "duration": 3,
    "start_time": "2024-12-29T12:33:46.865Z"
   },
   {
    "duration": 7,
    "start_time": "2024-12-29T12:33:47.114Z"
   },
   {
    "duration": 4,
    "start_time": "2024-12-29T12:33:47.340Z"
   },
   {
    "duration": 19,
    "start_time": "2024-12-29T12:33:48.066Z"
   },
   {
    "duration": 17,
    "start_time": "2024-12-29T12:33:50.084Z"
   },
   {
    "duration": 1374,
    "start_time": "2024-12-29T12:33:52.673Z"
   },
   {
    "duration": 16,
    "start_time": "2024-12-29T12:34:24.990Z"
   },
   {
    "duration": 11,
    "start_time": "2024-12-29T12:34:46.810Z"
   },
   {
    "duration": 25,
    "start_time": "2024-12-29T12:34:52.632Z"
   },
   {
    "duration": 13,
    "start_time": "2024-12-29T12:34:53.852Z"
   },
   {
    "duration": 10,
    "start_time": "2024-12-29T12:35:00.107Z"
   },
   {
    "duration": 337,
    "start_time": "2024-12-29T12:35:01.222Z"
   },
   {
    "duration": 12,
    "start_time": "2024-12-29T13:17:56.810Z"
   },
   {
    "duration": 339,
    "start_time": "2024-12-29T13:20:48.302Z"
   },
   {
    "duration": 190,
    "start_time": "2024-12-29T13:21:54.909Z"
   },
   {
    "duration": 232,
    "start_time": "2024-12-29T13:22:38.230Z"
   },
   {
    "duration": 86,
    "start_time": "2024-12-29T13:23:13.483Z"
   },
   {
    "duration": 244,
    "start_time": "2024-12-29T13:23:38.432Z"
   },
   {
    "duration": 13,
    "start_time": "2024-12-29T13:30:45.515Z"
   },
   {
    "duration": 394,
    "start_time": "2024-12-29T13:31:04.010Z"
   },
   {
    "duration": 251,
    "start_time": "2024-12-29T13:36:10.973Z"
   },
   {
    "duration": 91,
    "start_time": "2024-12-29T13:36:16.765Z"
   },
   {
    "duration": 16,
    "start_time": "2024-12-29T13:36:54.423Z"
   },
   {
    "duration": 16,
    "start_time": "2024-12-29T13:37:27.834Z"
   },
   {
    "duration": 55,
    "start_time": "2024-12-30T19:30:27.408Z"
   },
   {
    "duration": 1365,
    "start_time": "2024-12-30T19:30:36.346Z"
   },
   {
    "duration": 69,
    "start_time": "2024-12-30T19:30:37.713Z"
   },
   {
    "duration": 21,
    "start_time": "2024-12-30T19:30:37.828Z"
   },
   {
    "duration": 152,
    "start_time": "2024-12-30T19:30:38.011Z"
   },
   {
    "duration": 23,
    "start_time": "2024-12-30T19:30:38.195Z"
   },
   {
    "duration": 17,
    "start_time": "2024-12-30T19:30:38.380Z"
   },
   {
    "duration": 3,
    "start_time": "2024-12-30T19:30:38.579Z"
   },
   {
    "duration": 7,
    "start_time": "2024-12-30T19:30:38.768Z"
   },
   {
    "duration": 4,
    "start_time": "2024-12-30T19:30:38.977Z"
   },
   {
    "duration": 19,
    "start_time": "2024-12-30T19:30:39.198Z"
   },
   {
    "duration": 18,
    "start_time": "2024-12-30T19:30:39.390Z"
   },
   {
    "duration": 14,
    "start_time": "2024-12-30T19:30:40.000Z"
   },
   {
    "duration": 10,
    "start_time": "2024-12-30T19:30:40.226Z"
   },
   {
    "duration": 11,
    "start_time": "2024-12-30T19:30:40.417Z"
   },
   {
    "duration": 10,
    "start_time": "2024-12-30T19:30:40.773Z"
   },
   {
    "duration": 279,
    "start_time": "2024-12-30T19:30:41.816Z"
   },
   {
    "duration": 12,
    "start_time": "2024-12-30T19:30:42.096Z"
   },
   {
    "duration": 317,
    "start_time": "2024-12-30T19:30:42.202Z"
   },
   {
    "duration": 207,
    "start_time": "2024-12-30T19:30:42.521Z"
   },
   {
    "duration": 188,
    "start_time": "2024-12-30T19:30:42.736Z"
   },
   {
    "duration": 216,
    "start_time": "2024-12-30T19:30:43.167Z"
   },
   {
    "duration": 11,
    "start_time": "2024-12-30T19:30:43.727Z"
   },
   {
    "duration": 400,
    "start_time": "2024-12-30T19:30:43.905Z"
   },
   {
    "duration": 240,
    "start_time": "2024-12-30T19:30:44.491Z"
   },
   {
    "duration": 14,
    "start_time": "2024-12-30T19:30:45.068Z"
   },
   {
    "duration": 13,
    "start_time": "2024-12-30T19:30:45.442Z"
   },
   {
    "duration": 159,
    "start_time": "2024-12-30T19:30:45.624Z"
   },
   {
    "duration": 111,
    "start_time": "2024-12-30T19:31:32.946Z"
   },
   {
    "duration": 5,
    "start_time": "2024-12-30T19:32:25.984Z"
   },
   {
    "duration": 3,
    "start_time": "2024-12-30T19:33:12.220Z"
   },
   {
    "duration": 9,
    "start_time": "2024-12-30T19:34:02.528Z"
   },
   {
    "duration": 185,
    "start_time": "2024-12-30T19:34:15.231Z"
   },
   {
    "duration": 239,
    "start_time": "2024-12-30T19:37:42.215Z"
   },
   {
    "duration": 96,
    "start_time": "2024-12-30T19:38:00.008Z"
   },
   {
    "duration": 4,
    "start_time": "2024-12-30T19:40:14.436Z"
   },
   {
    "duration": 2,
    "start_time": "2024-12-30T19:41:06.725Z"
   },
   {
    "duration": 16,
    "start_time": "2024-12-30T19:42:04.267Z"
   },
   {
    "duration": 9,
    "start_time": "2024-12-30T19:42:20.844Z"
   },
   {
    "duration": 29,
    "start_time": "2024-12-30T19:43:01.924Z"
   },
   {
    "duration": 77,
    "start_time": "2024-12-30T19:43:18.738Z"
   },
   {
    "duration": 14,
    "start_time": "2024-12-30T19:49:06.004Z"
   },
   {
    "duration": 3,
    "start_time": "2024-12-30T19:49:53.800Z"
   },
   {
    "duration": 11,
    "start_time": "2024-12-30T19:50:24.561Z"
   },
   {
    "duration": 10,
    "start_time": "2024-12-30T19:50:42.729Z"
   },
   {
    "duration": 27,
    "start_time": "2024-12-30T19:50:55.834Z"
   },
   {
    "duration": 14,
    "start_time": "2024-12-30T19:51:55.942Z"
   },
   {
    "duration": 97,
    "start_time": "2024-12-30T19:52:08.624Z"
   },
   {
    "duration": 272,
    "start_time": "2024-12-30T19:52:14.492Z"
   },
   {
    "duration": 50,
    "start_time": "2025-01-01T11:18:46.739Z"
   },
   {
    "duration": 1332,
    "start_time": "2025-01-01T11:18:53.263Z"
   },
   {
    "duration": 75,
    "start_time": "2025-01-01T11:18:54.597Z"
   },
   {
    "duration": 23,
    "start_time": "2025-01-01T11:18:54.673Z"
   },
   {
    "duration": 164,
    "start_time": "2025-01-01T11:18:54.699Z"
   },
   {
    "duration": 18,
    "start_time": "2025-01-01T11:18:54.865Z"
   },
   {
    "duration": 23,
    "start_time": "2025-01-01T11:18:54.885Z"
   },
   {
    "duration": 7,
    "start_time": "2025-01-01T11:18:54.909Z"
   },
   {
    "duration": 6,
    "start_time": "2025-01-01T11:20:22.633Z"
   },
   {
    "duration": 5,
    "start_time": "2025-01-01T11:20:49.645Z"
   },
   {
    "duration": 13,
    "start_time": "2025-01-01T11:20:58.129Z"
   },
   {
    "duration": 12,
    "start_time": "2025-01-01T11:21:06.221Z"
   },
   {
    "duration": 11,
    "start_time": "2025-01-01T11:21:06.898Z"
   },
   {
    "duration": 12,
    "start_time": "2025-01-01T11:22:06.719Z"
   },
   {
    "duration": 11,
    "start_time": "2025-01-01T11:23:47.677Z"
   },
   {
    "duration": 12,
    "start_time": "2025-01-01T11:23:49.125Z"
   },
   {
    "duration": 82,
    "start_time": "2025-01-01T11:24:43.964Z"
   },
   {
    "duration": 25,
    "start_time": "2025-01-01T11:25:33.125Z"
   },
   {
    "duration": 3,
    "start_time": "2025-01-01T11:25:40.074Z"
   },
   {
    "duration": 27,
    "start_time": "2025-01-01T11:25:40.415Z"
   },
   {
    "duration": 19,
    "start_time": "2025-01-01T11:25:40.573Z"
   },
   {
    "duration": 52,
    "start_time": "2025-01-01T11:25:40.747Z"
   },
   {
    "duration": 17,
    "start_time": "2025-01-01T11:25:40.899Z"
   },
   {
    "duration": 18,
    "start_time": "2025-01-01T11:25:41.066Z"
   },
   {
    "duration": 3,
    "start_time": "2025-01-01T11:25:41.291Z"
   },
   {
    "duration": 6,
    "start_time": "2025-01-01T11:25:41.514Z"
   },
   {
    "duration": 3,
    "start_time": "2025-01-01T11:25:41.992Z"
   },
   {
    "duration": 19,
    "start_time": "2025-01-01T11:25:42.380Z"
   },
   {
    "duration": 17,
    "start_time": "2025-01-01T11:25:42.635Z"
   },
   {
    "duration": 5,
    "start_time": "2025-01-01T11:25:44.463Z"
   },
   {
    "duration": 11,
    "start_time": "2025-01-01T11:25:44.836Z"
   },
   {
    "duration": 13,
    "start_time": "2025-01-01T11:25:45.025Z"
   },
   {
    "duration": 11,
    "start_time": "2025-01-01T11:25:45.502Z"
   },
   {
    "duration": 10,
    "start_time": "2025-01-01T11:25:45.975Z"
   },
   {
    "duration": 279,
    "start_time": "2025-01-01T11:25:47.823Z"
   },
   {
    "duration": 14,
    "start_time": "2025-01-01T11:26:13.175Z"
   },
   {
    "duration": 303,
    "start_time": "2025-01-01T11:27:39.321Z"
   },
   {
    "duration": 195,
    "start_time": "2025-01-01T11:27:39.796Z"
   },
   {
    "duration": 82,
    "start_time": "2025-01-01T11:28:15.041Z"
   },
   {
    "duration": 82,
    "start_time": "2025-01-01T11:28:20.921Z"
   },
   {
    "duration": 187,
    "start_time": "2025-01-01T11:28:27.964Z"
   },
   {
    "duration": 191,
    "start_time": "2025-01-01T11:28:29.636Z"
   },
   {
    "duration": 216,
    "start_time": "2025-01-01T11:28:50.748Z"
   },
   {
    "duration": 18,
    "start_time": "2025-01-01T11:32:54.994Z"
   },
   {
    "duration": 330,
    "start_time": "2025-01-01T11:32:55.957Z"
   },
   {
    "duration": 229,
    "start_time": "2025-01-01T11:34:15.619Z"
   },
   {
    "duration": 15,
    "start_time": "2025-01-01T11:34:40.330Z"
   },
   {
    "duration": 292,
    "start_time": "2025-01-01T11:35:22.445Z"
   },
   {
    "duration": 12,
    "start_time": "2025-01-01T11:35:36.868Z"
   },
   {
    "duration": 217,
    "start_time": "2025-01-01T11:35:37.329Z"
   },
   {
    "duration": 11,
    "start_time": "2025-01-01T11:35:58.513Z"
   },
   {
    "duration": 146,
    "start_time": "2025-01-01T11:35:59.055Z"
   },
   {
    "duration": 4,
    "start_time": "2025-01-01T11:36:09.028Z"
   },
   {
    "duration": 3,
    "start_time": "2025-01-01T11:36:09.981Z"
   },
   {
    "duration": 9,
    "start_time": "2025-01-01T11:36:10.735Z"
   },
   {
    "duration": 160,
    "start_time": "2025-01-01T11:36:12.473Z"
   },
   {
    "duration": 162,
    "start_time": "2025-01-01T11:36:16.133Z"
   },
   {
    "duration": 4,
    "start_time": "2025-01-01T11:36:22.520Z"
   },
   {
    "duration": 3,
    "start_time": "2025-01-01T11:36:23.869Z"
   },
   {
    "duration": 16,
    "start_time": "2025-01-01T11:36:26.164Z"
   },
   {
    "duration": 8,
    "start_time": "2025-01-01T11:36:27.116Z"
   },
   {
    "duration": 27,
    "start_time": "2025-01-01T11:36:28.432Z"
   },
   {
    "duration": 15,
    "start_time": "2025-01-01T11:36:30.286Z"
   },
   {
    "duration": 11,
    "start_time": "2025-01-01T11:36:31.478Z"
   },
   {
    "duration": 11,
    "start_time": "2025-01-01T11:36:31.911Z"
   },
   {
    "duration": 27,
    "start_time": "2025-01-01T11:36:32.493Z"
   },
   {
    "duration": 15,
    "start_time": "2025-01-01T11:36:34.724Z"
   },
   {
    "duration": 16,
    "start_time": "2025-01-01T12:02:59.920Z"
   },
   {
    "duration": 1243,
    "start_time": "2025-01-01T12:13:28.965Z"
   },
   {
    "duration": 88,
    "start_time": "2025-01-01T12:13:30.214Z"
   },
   {
    "duration": 21,
    "start_time": "2025-01-01T12:13:30.304Z"
   },
   {
    "duration": 200,
    "start_time": "2025-01-01T12:13:30.327Z"
   },
   {
    "duration": 17,
    "start_time": "2025-01-01T12:13:30.529Z"
   },
   {
    "duration": 20,
    "start_time": "2025-01-01T12:13:30.548Z"
   },
   {
    "duration": 6,
    "start_time": "2025-01-01T12:13:30.569Z"
   },
   {
    "duration": 8,
    "start_time": "2025-01-01T12:13:30.576Z"
   },
   {
    "duration": 14,
    "start_time": "2025-01-01T12:13:30.585Z"
   },
   {
    "duration": 37,
    "start_time": "2025-01-01T12:13:30.601Z"
   },
   {
    "duration": 30,
    "start_time": "2025-01-01T12:13:30.640Z"
   },
   {
    "duration": 7,
    "start_time": "2025-01-01T12:13:30.672Z"
   },
   {
    "duration": 13,
    "start_time": "2025-01-01T12:13:30.681Z"
   },
   {
    "duration": 28,
    "start_time": "2025-01-01T12:13:30.698Z"
   },
   {
    "duration": 47,
    "start_time": "2025-01-01T12:13:30.728Z"
   },
   {
    "duration": 12,
    "start_time": "2025-01-01T12:13:30.776Z"
   },
   {
    "duration": 277,
    "start_time": "2025-01-01T12:13:30.789Z"
   },
   {
    "duration": 12,
    "start_time": "2025-01-01T12:13:31.068Z"
   },
   {
    "duration": 343,
    "start_time": "2025-01-01T12:13:31.082Z"
   },
   {
    "duration": 201,
    "start_time": "2025-01-01T12:13:31.426Z"
   },
   {
    "duration": 200,
    "start_time": "2025-01-01T12:13:31.629Z"
   },
   {
    "duration": 229,
    "start_time": "2025-01-01T12:13:31.831Z"
   },
   {
    "duration": 13,
    "start_time": "2025-01-01T12:13:32.061Z"
   },
   {
    "duration": 409,
    "start_time": "2025-01-01T12:13:32.075Z"
   },
   {
    "duration": 240,
    "start_time": "2025-01-01T12:13:32.486Z"
   },
   {
    "duration": 14,
    "start_time": "2025-01-01T12:13:32.728Z"
   },
   {
    "duration": 333,
    "start_time": "2025-01-01T12:13:32.744Z"
   },
   {
    "duration": 10,
    "start_time": "2025-01-01T12:13:33.079Z"
   },
   {
    "duration": 182,
    "start_time": "2025-01-01T12:13:33.091Z"
   },
   {
    "duration": 4,
    "start_time": "2025-01-01T12:13:33.275Z"
   },
   {
    "duration": 3,
    "start_time": "2025-01-01T12:13:33.281Z"
   },
   {
    "duration": 11,
    "start_time": "2025-01-01T12:13:33.285Z"
   },
   {
    "duration": 253,
    "start_time": "2025-01-01T12:13:33.315Z"
   },
   {
    "duration": 168,
    "start_time": "2025-01-01T12:13:33.569Z"
   },
   {
    "duration": 5,
    "start_time": "2025-01-01T12:13:33.739Z"
   },
   {
    "duration": 20,
    "start_time": "2025-01-01T12:13:33.745Z"
   },
   {
    "duration": 16,
    "start_time": "2025-01-01T12:13:33.767Z"
   },
   {
    "duration": 8,
    "start_time": "2025-01-01T12:13:33.784Z"
   },
   {
    "duration": 50,
    "start_time": "2025-01-01T12:13:33.794Z"
   },
   {
    "duration": 27,
    "start_time": "2025-01-01T12:13:33.846Z"
   },
   {
    "duration": 9,
    "start_time": "2025-01-01T12:13:33.876Z"
   },
   {
    "duration": 10,
    "start_time": "2025-01-01T12:13:33.887Z"
   },
   {
    "duration": 44,
    "start_time": "2025-01-01T12:13:33.898Z"
   },
   {
    "duration": 15,
    "start_time": "2025-01-01T12:13:33.943Z"
   },
   {
    "duration": 61,
    "start_time": "2025-01-03T08:26:27.487Z"
   },
   {
    "duration": 1373,
    "start_time": "2025-01-03T08:26:38.071Z"
   },
   {
    "duration": 74,
    "start_time": "2025-01-03T08:26:39.446Z"
   },
   {
    "duration": 30,
    "start_time": "2025-01-03T08:26:39.522Z"
   },
   {
    "duration": 162,
    "start_time": "2025-01-03T08:26:39.554Z"
   },
   {
    "duration": 27,
    "start_time": "2025-01-03T08:26:39.718Z"
   },
   {
    "duration": 20,
    "start_time": "2025-01-03T08:26:39.747Z"
   },
   {
    "duration": 3,
    "start_time": "2025-01-03T08:26:39.769Z"
   },
   {
    "duration": 7,
    "start_time": "2025-01-03T08:26:39.907Z"
   },
   {
    "duration": 4,
    "start_time": "2025-01-03T08:26:40.284Z"
   },
   {
    "duration": 23,
    "start_time": "2025-01-03T08:26:40.487Z"
   },
   {
    "duration": 22,
    "start_time": "2025-01-03T08:26:40.669Z"
   },
   {
    "duration": 6,
    "start_time": "2025-01-03T08:26:41.663Z"
   },
   {
    "duration": 15,
    "start_time": "2025-01-03T08:26:41.843Z"
   },
   {
    "duration": 10,
    "start_time": "2025-01-03T08:26:42.206Z"
   },
   {
    "duration": 11,
    "start_time": "2025-01-03T08:26:42.757Z"
   },
   {
    "duration": 11,
    "start_time": "2025-01-03T08:26:43.107Z"
   },
   {
    "duration": 319,
    "start_time": "2025-01-03T08:26:44.031Z"
   },
   {
    "duration": 318,
    "start_time": "2025-01-03T08:26:44.353Z"
   },
   {
    "duration": 323,
    "start_time": "2025-01-03T08:26:44.770Z"
   },
   {
    "duration": 201,
    "start_time": "2025-01-03T08:26:45.152Z"
   },
   {
    "duration": 218,
    "start_time": "2025-01-03T08:26:45.355Z"
   },
   {
    "duration": 228,
    "start_time": "2025-01-03T08:26:46.129Z"
   },
   {
    "duration": 19,
    "start_time": "2025-01-03T08:26:46.934Z"
   },
   {
    "duration": 363,
    "start_time": "2025-01-03T08:26:47.152Z"
   },
   {
    "duration": 267,
    "start_time": "2025-01-03T08:26:48.017Z"
   },
   {
    "duration": 18,
    "start_time": "2025-01-03T08:26:49.360Z"
   },
   {
    "duration": 335,
    "start_time": "2025-01-03T08:26:49.547Z"
   },
   {
    "duration": 10,
    "start_time": "2025-01-03T08:26:50.472Z"
   },
   {
    "duration": 154,
    "start_time": "2025-01-03T08:26:50.644Z"
   },
   {
    "duration": 4,
    "start_time": "2025-01-03T08:26:51.268Z"
   },
   {
    "duration": 5,
    "start_time": "2025-01-03T08:26:51.904Z"
   },
   {
    "duration": 3,
    "start_time": "2025-01-03T08:26:52.117Z"
   },
   {
    "duration": 3,
    "start_time": "2025-01-03T08:27:05.491Z"
   },
   {
    "duration": 3,
    "start_time": "2025-01-03T08:27:12.304Z"
   },
   {
    "duration": 9,
    "start_time": "2025-01-03T08:27:14.443Z"
   },
   {
    "duration": 251,
    "start_time": "2025-01-03T08:27:15.072Z"
   },
   {
    "duration": 178,
    "start_time": "2025-01-03T08:27:15.842Z"
   },
   {
    "duration": 4,
    "start_time": "2025-01-03T08:27:21.566Z"
   },
   {
    "duration": 2,
    "start_time": "2025-01-03T08:27:22.694Z"
   },
   {
    "duration": 8,
    "start_time": "2025-01-03T08:27:59.235Z"
   },
   {
    "duration": 3,
    "start_time": "2025-01-03T08:28:25.944Z"
   },
   {
    "duration": 20,
    "start_time": "2025-01-03T08:28:26.574Z"
   },
   {
    "duration": 8,
    "start_time": "2025-01-03T08:28:26.987Z"
   },
   {
    "duration": 27,
    "start_time": "2025-01-03T08:28:27.747Z"
   },
   {
    "duration": 14,
    "start_time": "2025-01-03T08:28:30.461Z"
   },
   {
    "duration": 17,
    "start_time": "2025-01-03T08:29:11.253Z"
   },
   {
    "duration": 10,
    "start_time": "2025-01-03T08:29:15.080Z"
   },
   {
    "duration": 10,
    "start_time": "2025-01-03T08:29:15.388Z"
   },
   {
    "duration": 238,
    "start_time": "2025-01-03T08:31:40.866Z"
   },
   {
    "duration": 243,
    "start_time": "2025-01-03T08:32:51.103Z"
   },
   {
    "duration": 35,
    "start_time": "2025-01-03T08:39:42.228Z"
   },
   {
    "duration": 25,
    "start_time": "2025-01-03T08:40:08.455Z"
   },
   {
    "duration": 28,
    "start_time": "2025-01-03T08:41:33.997Z"
   },
   {
    "duration": 31,
    "start_time": "2025-01-03T08:42:52.633Z"
   },
   {
    "duration": 21,
    "start_time": "2025-01-03T08:43:20.831Z"
   },
   {
    "duration": 25,
    "start_time": "2025-01-03T08:43:43.042Z"
   },
   {
    "duration": 15,
    "start_time": "2025-01-03T08:44:07.870Z"
   },
   {
    "duration": 1187,
    "start_time": "2025-01-03T11:22:56.614Z"
   },
   {
    "duration": 71,
    "start_time": "2025-01-03T11:22:57.803Z"
   },
   {
    "duration": 23,
    "start_time": "2025-01-03T11:22:57.876Z"
   },
   {
    "duration": 156,
    "start_time": "2025-01-03T11:22:57.901Z"
   },
   {
    "duration": 17,
    "start_time": "2025-01-03T11:22:58.059Z"
   },
   {
    "duration": 16,
    "start_time": "2025-01-03T11:22:58.078Z"
   },
   {
    "duration": 5,
    "start_time": "2025-01-03T11:22:58.096Z"
   },
   {
    "duration": 19,
    "start_time": "2025-01-03T11:22:58.102Z"
   },
   {
    "duration": 21,
    "start_time": "2025-01-03T11:22:58.123Z"
   },
   {
    "duration": 20,
    "start_time": "2025-01-03T11:22:58.147Z"
   },
   {
    "duration": 16,
    "start_time": "2025-01-03T11:22:58.168Z"
   },
   {
    "duration": 11,
    "start_time": "2025-01-03T11:22:58.186Z"
   },
   {
    "duration": 25,
    "start_time": "2025-01-03T11:22:58.199Z"
   },
   {
    "duration": 15,
    "start_time": "2025-01-03T11:22:58.226Z"
   },
   {
    "duration": 22,
    "start_time": "2025-01-03T11:22:58.242Z"
   },
   {
    "duration": 15,
    "start_time": "2025-01-03T11:22:58.266Z"
   },
   {
    "duration": 322,
    "start_time": "2025-01-03T11:22:58.284Z"
   },
   {
    "duration": 16,
    "start_time": "2025-01-03T11:22:58.608Z"
   },
   {
    "duration": 339,
    "start_time": "2025-01-03T11:22:58.626Z"
   },
   {
    "duration": 219,
    "start_time": "2025-01-03T11:22:58.968Z"
   },
   {
    "duration": 206,
    "start_time": "2025-01-03T11:22:59.189Z"
   },
   {
    "duration": 249,
    "start_time": "2025-01-03T11:22:59.397Z"
   },
   {
    "duration": 11,
    "start_time": "2025-01-03T11:22:59.648Z"
   },
   {
    "duration": 348,
    "start_time": "2025-01-03T11:22:59.661Z"
   },
   {
    "duration": 268,
    "start_time": "2025-01-03T11:23:00.010Z"
   },
   {
    "duration": 137,
    "start_time": "2025-01-03T11:23:00.280Z"
   },
   {
    "duration": 0,
    "start_time": "2025-01-03T11:23:00.419Z"
   },
   {
    "duration": 0,
    "start_time": "2025-01-03T11:23:00.421Z"
   },
   {
    "duration": 0,
    "start_time": "2025-01-03T11:23:00.422Z"
   },
   {
    "duration": 0,
    "start_time": "2025-01-03T11:23:00.424Z"
   },
   {
    "duration": 0,
    "start_time": "2025-01-03T11:23:00.425Z"
   },
   {
    "duration": 0,
    "start_time": "2025-01-03T11:23:00.426Z"
   },
   {
    "duration": 0,
    "start_time": "2025-01-03T11:23:00.427Z"
   },
   {
    "duration": 0,
    "start_time": "2025-01-03T11:23:00.428Z"
   },
   {
    "duration": 0,
    "start_time": "2025-01-03T11:23:00.429Z"
   },
   {
    "duration": 0,
    "start_time": "2025-01-03T11:23:00.430Z"
   },
   {
    "duration": 0,
    "start_time": "2025-01-03T11:23:00.431Z"
   },
   {
    "duration": 0,
    "start_time": "2025-01-03T11:23:00.432Z"
   },
   {
    "duration": 0,
    "start_time": "2025-01-03T11:23:00.433Z"
   },
   {
    "duration": 0,
    "start_time": "2025-01-03T11:23:00.434Z"
   },
   {
    "duration": 0,
    "start_time": "2025-01-03T11:23:00.435Z"
   },
   {
    "duration": 0,
    "start_time": "2025-01-03T11:23:00.436Z"
   },
   {
    "duration": 0,
    "start_time": "2025-01-03T11:23:00.437Z"
   },
   {
    "duration": 0,
    "start_time": "2025-01-03T11:23:00.438Z"
   },
   {
    "duration": 14,
    "start_time": "2025-01-03T11:24:45.606Z"
   },
   {
    "duration": 14,
    "start_time": "2025-01-03T11:24:49.590Z"
   },
   {
    "duration": 172,
    "start_time": "2025-01-03T11:24:49.606Z"
   },
   {
    "duration": 4,
    "start_time": "2025-01-03T11:24:49.780Z"
   },
   {
    "duration": 9,
    "start_time": "2025-01-03T11:24:49.787Z"
   },
   {
    "duration": 25,
    "start_time": "2025-01-03T11:24:49.798Z"
   },
   {
    "duration": 248,
    "start_time": "2025-01-03T11:24:49.825Z"
   },
   {
    "duration": 178,
    "start_time": "2025-01-03T11:24:50.075Z"
   },
   {
    "duration": 19,
    "start_time": "2025-01-03T11:24:50.255Z"
   },
   {
    "duration": 164,
    "start_time": "2025-01-03T11:24:50.275Z"
   },
   {
    "duration": 58,
    "start_time": "2025-01-03T11:24:50.442Z"
   },
   {
    "duration": 32,
    "start_time": "2025-01-03T11:24:50.502Z"
   },
   {
    "duration": 57,
    "start_time": "2025-01-03T11:24:50.536Z"
   },
   {
    "duration": 18,
    "start_time": "2025-01-03T11:24:50.595Z"
   },
   {
    "duration": 12,
    "start_time": "2025-01-03T11:24:50.614Z"
   },
   {
    "duration": 24,
    "start_time": "2025-01-03T11:24:50.628Z"
   },
   {
    "duration": 57,
    "start_time": "2025-01-03T11:24:50.654Z"
   },
   {
    "duration": 15,
    "start_time": "2025-01-03T11:24:50.713Z"
   },
   {
    "duration": 4,
    "start_time": "2025-01-03T11:25:58.203Z"
   },
   {
    "duration": 1303,
    "start_time": "2025-01-03T13:30:04.665Z"
   },
   {
    "duration": 72,
    "start_time": "2025-01-03T13:30:05.970Z"
   },
   {
    "duration": 21,
    "start_time": "2025-01-03T13:30:06.043Z"
   },
   {
    "duration": 200,
    "start_time": "2025-01-03T13:30:06.066Z"
   },
   {
    "duration": 19,
    "start_time": "2025-01-03T13:30:06.268Z"
   },
   {
    "duration": 40,
    "start_time": "2025-01-03T13:30:06.290Z"
   },
   {
    "duration": 36,
    "start_time": "2025-01-03T13:30:06.331Z"
   },
   {
    "duration": 7,
    "start_time": "2025-01-03T13:30:06.502Z"
   },
   {
    "duration": 4,
    "start_time": "2025-01-03T13:30:07.526Z"
   },
   {
    "duration": 18,
    "start_time": "2025-01-03T13:30:07.756Z"
   },
   {
    "duration": 16,
    "start_time": "2025-01-03T13:30:08.089Z"
   },
   {
    "duration": 6,
    "start_time": "2025-01-03T13:30:09.886Z"
   },
   {
    "duration": 19,
    "start_time": "2025-01-03T13:30:10.106Z"
   },
   {
    "duration": 12,
    "start_time": "2025-01-03T13:30:10.659Z"
   },
   {
    "duration": 11,
    "start_time": "2025-01-03T13:30:11.630Z"
   },
   {
    "duration": 11,
    "start_time": "2025-01-03T13:30:12.089Z"
   },
   {
    "duration": 268,
    "start_time": "2025-01-03T13:30:13.609Z"
   },
   {
    "duration": 12,
    "start_time": "2025-01-03T13:30:13.879Z"
   },
   {
    "duration": 316,
    "start_time": "2025-01-03T13:30:15.338Z"
   },
   {
    "duration": 197,
    "start_time": "2025-01-03T13:30:16.202Z"
   },
   {
    "duration": 194,
    "start_time": "2025-01-03T13:30:16.831Z"
   },
   {
    "duration": 226,
    "start_time": "2025-01-03T13:30:20.153Z"
   },
   {
    "duration": 12,
    "start_time": "2025-01-03T13:30:21.781Z"
   },
   {
    "duration": 386,
    "start_time": "2025-01-03T13:30:22.007Z"
   },
   {
    "duration": 254,
    "start_time": "2025-01-03T13:30:23.360Z"
   },
   {
    "duration": 108,
    "start_time": "2025-01-03T13:30:25.488Z"
   },
   {
    "duration": 13,
    "start_time": "2025-01-03T13:30:37.744Z"
   },
   {
    "duration": 1344,
    "start_time": "2025-01-03T13:30:39.500Z"
   },
   {
    "duration": 1370,
    "start_time": "2025-01-03T13:31:01.064Z"
   },
   {
    "duration": 397,
    "start_time": "2025-01-03T13:31:24.058Z"
   },
   {
    "duration": 11,
    "start_time": "2025-01-03T13:31:28.977Z"
   },
   {
    "duration": 144,
    "start_time": "2025-01-03T13:31:29.807Z"
   },
   {
    "duration": 5,
    "start_time": "2025-01-03T13:31:31.376Z"
   },
   {
    "duration": 3,
    "start_time": "2025-01-03T13:31:33.398Z"
   },
   {
    "duration": 8,
    "start_time": "2025-01-03T13:31:35.394Z"
   },
   {
    "duration": 151,
    "start_time": "2025-01-03T13:31:35.695Z"
   },
   {
    "duration": 153,
    "start_time": "2025-01-03T13:31:36.360Z"
   },
   {
    "duration": 4,
    "start_time": "2025-01-03T13:31:38.448Z"
   },
   {
    "duration": 3,
    "start_time": "2025-01-03T13:31:39.323Z"
   },
   {
    "duration": 15,
    "start_time": "2025-01-03T13:31:40.022Z"
   },
   {
    "duration": 11,
    "start_time": "2025-01-03T13:31:42.462Z"
   },
   {
    "duration": 29,
    "start_time": "2025-01-03T13:31:42.839Z"
   },
   {
    "duration": 14,
    "start_time": "2025-01-03T13:31:44.194Z"
   },
   {
    "duration": 11,
    "start_time": "2025-01-03T13:31:47.494Z"
   },
   {
    "duration": 12,
    "start_time": "2025-01-03T13:31:47.943Z"
   },
   {
    "duration": 28,
    "start_time": "2025-01-03T13:31:50.745Z"
   },
   {
    "duration": 16,
    "start_time": "2025-01-03T13:31:52.941Z"
   },
   {
    "duration": 1409,
    "start_time": "2025-01-03T19:40:09.567Z"
   },
   {
    "duration": 88,
    "start_time": "2025-01-03T19:40:10.979Z"
   },
   {
    "duration": 25,
    "start_time": "2025-01-03T19:40:11.069Z"
   },
   {
    "duration": 132,
    "start_time": "2025-01-03T19:40:11.096Z"
   },
   {
    "duration": 22,
    "start_time": "2025-01-03T19:40:11.231Z"
   },
   {
    "duration": 21,
    "start_time": "2025-01-03T19:40:11.254Z"
   },
   {
    "duration": 3,
    "start_time": "2025-01-03T19:40:11.277Z"
   },
   {
    "duration": 8,
    "start_time": "2025-01-03T19:40:11.282Z"
   },
   {
    "duration": 7,
    "start_time": "2025-01-03T19:40:11.293Z"
   },
   {
    "duration": 22,
    "start_time": "2025-01-03T19:40:11.302Z"
   },
   {
    "duration": 53,
    "start_time": "2025-01-03T19:40:11.326Z"
   },
   {
    "duration": 6,
    "start_time": "2025-01-03T19:40:11.380Z"
   },
   {
    "duration": 14,
    "start_time": "2025-01-03T19:40:11.388Z"
   },
   {
    "duration": 13,
    "start_time": "2025-01-03T19:40:11.405Z"
   },
   {
    "duration": 52,
    "start_time": "2025-01-03T19:40:11.420Z"
   },
   {
    "duration": 14,
    "start_time": "2025-01-03T19:40:11.475Z"
   },
   {
    "duration": 401,
    "start_time": "2025-01-03T19:40:11.491Z"
   },
   {
    "duration": 17,
    "start_time": "2025-01-03T19:40:11.894Z"
   },
   {
    "duration": 370,
    "start_time": "2025-01-03T19:40:11.912Z"
   },
   {
    "duration": 231,
    "start_time": "2025-01-03T19:40:12.284Z"
   },
   {
    "duration": 237,
    "start_time": "2025-01-03T19:40:12.517Z"
   },
   {
    "duration": 286,
    "start_time": "2025-01-03T19:40:12.756Z"
   },
   {
    "duration": 22,
    "start_time": "2025-01-03T19:40:13.044Z"
   },
   {
    "duration": 384,
    "start_time": "2025-01-03T19:40:13.068Z"
   },
   {
    "duration": 291,
    "start_time": "2025-01-03T19:40:13.454Z"
   },
   {
    "duration": 24,
    "start_time": "2025-01-03T19:40:13.747Z"
   },
   {
    "duration": 343,
    "start_time": "2025-01-03T19:40:13.773Z"
   },
   {
    "duration": 14,
    "start_time": "2025-01-03T19:40:14.118Z"
   },
   {
    "duration": 227,
    "start_time": "2025-01-03T19:40:14.133Z"
   },
   {
    "duration": 5,
    "start_time": "2025-01-03T19:40:14.362Z"
   },
   {
    "duration": 6,
    "start_time": "2025-01-03T19:40:14.368Z"
   },
   {
    "duration": 11,
    "start_time": "2025-01-03T19:40:14.376Z"
   },
   {
    "duration": 303,
    "start_time": "2025-01-03T19:40:14.389Z"
   },
   {
    "duration": 191,
    "start_time": "2025-01-03T19:40:14.694Z"
   },
   {
    "duration": 5,
    "start_time": "2025-01-03T19:40:14.887Z"
   },
   {
    "duration": 3,
    "start_time": "2025-01-03T19:40:14.894Z"
   },
   {
    "duration": 19,
    "start_time": "2025-01-03T19:40:14.899Z"
   },
   {
    "duration": 42,
    "start_time": "2025-01-03T19:40:14.920Z"
   },
   {
    "duration": 29,
    "start_time": "2025-01-03T19:40:14.964Z"
   },
   {
    "duration": 16,
    "start_time": "2025-01-03T19:40:14.995Z"
   },
   {
    "duration": 84,
    "start_time": "2025-01-03T19:40:15.015Z"
   },
   {
    "duration": 19,
    "start_time": "2025-01-03T19:40:15.101Z"
   },
   {
    "duration": 86,
    "start_time": "2025-01-03T19:40:15.122Z"
   },
   {
    "duration": 18,
    "start_time": "2025-01-03T19:40:15.210Z"
   }
  ],
  "kernelspec": {
   "display_name": "Python 3 (ipykernel)",
   "language": "python",
   "name": "python3"
  },
  "language_info": {
   "codemirror_mode": {
    "name": "ipython",
    "version": 3
   },
   "file_extension": ".py",
   "mimetype": "text/x-python",
   "name": "python",
   "nbconvert_exporter": "python",
   "pygments_lexer": "ipython3",
   "version": "3.9.13"
  },
  "toc": {
   "base_numbering": 1,
   "nav_menu": {},
   "number_sections": true,
   "sideBar": true,
   "skip_h1_title": true,
   "title_cell": "Table of Contents",
   "title_sidebar": "Contents",
   "toc_cell": false,
   "toc_position": {},
   "toc_section_display": true,
   "toc_window_display": true
  }
 },
 "nbformat": 4,
 "nbformat_minor": 2
}
